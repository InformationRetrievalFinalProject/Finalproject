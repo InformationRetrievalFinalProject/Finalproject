{
  "nbformat": 4,
  "nbformat_minor": 0,
  "metadata": {
    "colab": {
      "provenance": []
    },
    "kernelspec": {
      "name": "python3",
      "display_name": "Python 3"
    },
    "language_info": {
      "name": "python"
    }
  },
  "cells": [
    {
      "cell_type": "code",
      "execution_count": 1,
      "metadata": {
        "colab": {
          "base_uri": "https://localhost:8080/"
        },
        "id": "BzB_nl4ZVpEb",
        "outputId": "5f7efda9-9e07-4a87-a084-b2765619a87c"
      },
      "outputs": [
        {
          "output_type": "stream",
          "name": "stderr",
          "text": [
            "[nltk_data] Downloading package stopwords to /root/nltk_data...\n",
            "[nltk_data]   Unzipping corpora/stopwords.zip.\n"
          ]
        }
      ],
      "source": [
        "import sys\n",
        "from collections import Counter, OrderedDict\n",
        "import itertools\n",
        "from itertools import islice, count, groupby\n",
        "import pandas as pd\n",
        "import os\n",
        "import re\n",
        "from operator import itemgetter\n",
        "import nltk\n",
        "from nltk.stem.porter import *\n",
        "from nltk.corpus import stopwords\n",
        "from time import time\n",
        "from timeit import timeit\n",
        "from pathlib import Path\n",
        "import pickle\n",
        "import pandas as pd\n",
        "import numpy as np\n",
        "from google.cloud import storage\n",
        "import math\n",
        "import hashlib\n",
        "\n",
        "def _hash(s):\n",
        "    return hashlib.blake2b(bytes(s, encoding='utf8'), digest_size=5).hexdigest()\n",
        "\n",
        "nltk.download('stopwords')\n",
        "\n",
        "from inverted_index_colab import *\n"
      ]
    },
    {
      "cell_type": "code",
      "source": [
        "# These will already be installed in the testing environment so disregard the\n",
        "# amount of time (~1 minute) it takes to install.\n",
        "!pip install -q pyspark\n",
        "!pip install -U -q PyDrive\n",
        "!apt install openjdk-8-jdk-headless -qq\n",
        "!pip install -q graphframes\n",
        "import os\n",
        "os.environ[\"JAVA_HOME\"] = \"/usr/lib/jvm/java-8-openjdk-amd64\"\n",
        "graphframes_jar = 'https://repos.spark-packages.org/graphframes/graphframes/0.8.2-spark3.2-s_2.12/graphframes-0.8.2-spark3.2-s_2.12.jar'\n",
        "spark_jars = '/usr/local/lib/python3.7/dist-packages/pyspark/jars'\n",
        "!wget -N -P $spark_jars $graphframes_jar\n",
        "import pyspark\n",
        "from pyspark.sql import *\n",
        "from pyspark.sql.functions import *\n",
        "from pyspark import SparkContext, SparkConf\n",
        "from pyspark.sql import SQLContext\n",
        "from pyspark.ml.feature import Tokenizer, RegexTokenizer\n",
        "from graphframes import *"
      ],
      "metadata": {
        "id": "0YsZnKD4V_KX",
        "colab": {
          "base_uri": "https://localhost:8080/"
        },
        "outputId": "6f851bf0-39aa-4d19-b092-8638d9a07281"
      },
      "execution_count": 2,
      "outputs": [
        {
          "output_type": "stream",
          "name": "stdout",
          "text": [
            "\u001b[2K     \u001b[90m━━━━━━━━━━━━━━━━━━━━━━━━━━━━━━━━━━━━━━━━\u001b[0m \u001b[32m316.9/316.9 MB\u001b[0m \u001b[31m4.7 MB/s\u001b[0m eta \u001b[36m0:00:00\u001b[0m\n",
            "\u001b[?25h  Preparing metadata (setup.py) ... \u001b[?25l\u001b[?25hdone\n",
            "  Building wheel for pyspark (setup.py) ... \u001b[?25l\u001b[?25hdone\n",
            "The following additional packages will be installed:\n",
            "  libxtst6 openjdk-8-jre-headless\n",
            "Suggested packages:\n",
            "  openjdk-8-demo openjdk-8-source libnss-mdns fonts-dejavu-extra fonts-nanum fonts-ipafont-gothic\n",
            "  fonts-ipafont-mincho fonts-wqy-microhei fonts-wqy-zenhei fonts-indic\n",
            "The following NEW packages will be installed:\n",
            "  libxtst6 openjdk-8-jdk-headless openjdk-8-jre-headless\n",
            "0 upgraded, 3 newly installed, 0 to remove and 35 not upgraded.\n",
            "Need to get 39.7 MB of archives.\n",
            "After this operation, 144 MB of additional disk space will be used.\n",
            "Selecting previously unselected package libxtst6:amd64.\n",
            "(Reading database ... 121749 files and directories currently installed.)\n",
            "Preparing to unpack .../libxtst6_2%3a1.2.3-1build4_amd64.deb ...\n",
            "Unpacking libxtst6:amd64 (2:1.2.3-1build4) ...\n",
            "Selecting previously unselected package openjdk-8-jre-headless:amd64.\n",
            "Preparing to unpack .../openjdk-8-jre-headless_8u392-ga-1~22.04_amd64.deb ...\n",
            "Unpacking openjdk-8-jre-headless:amd64 (8u392-ga-1~22.04) ...\n",
            "Selecting previously unselected package openjdk-8-jdk-headless:amd64.\n",
            "Preparing to unpack .../openjdk-8-jdk-headless_8u392-ga-1~22.04_amd64.deb ...\n",
            "Unpacking openjdk-8-jdk-headless:amd64 (8u392-ga-1~22.04) ...\n",
            "Setting up libxtst6:amd64 (2:1.2.3-1build4) ...\n",
            "Setting up openjdk-8-jre-headless:amd64 (8u392-ga-1~22.04) ...\n",
            "update-alternatives: using /usr/lib/jvm/java-8-openjdk-amd64/jre/bin/orbd to provide /usr/bin/orbd (orbd) in auto mode\n",
            "update-alternatives: using /usr/lib/jvm/java-8-openjdk-amd64/jre/bin/servertool to provide /usr/bin/servertool (servertool) in auto mode\n",
            "update-alternatives: using /usr/lib/jvm/java-8-openjdk-amd64/jre/bin/tnameserv to provide /usr/bin/tnameserv (tnameserv) in auto mode\n",
            "Setting up openjdk-8-jdk-headless:amd64 (8u392-ga-1~22.04) ...\n",
            "update-alternatives: using /usr/lib/jvm/java-8-openjdk-amd64/bin/clhsdb to provide /usr/bin/clhsdb (clhsdb) in auto mode\n",
            "update-alternatives: using /usr/lib/jvm/java-8-openjdk-amd64/bin/extcheck to provide /usr/bin/extcheck (extcheck) in auto mode\n",
            "update-alternatives: using /usr/lib/jvm/java-8-openjdk-amd64/bin/hsdb to provide /usr/bin/hsdb (hsdb) in auto mode\n",
            "update-alternatives: using /usr/lib/jvm/java-8-openjdk-amd64/bin/idlj to provide /usr/bin/idlj (idlj) in auto mode\n",
            "update-alternatives: using /usr/lib/jvm/java-8-openjdk-amd64/bin/javah to provide /usr/bin/javah (javah) in auto mode\n",
            "update-alternatives: using /usr/lib/jvm/java-8-openjdk-amd64/bin/jhat to provide /usr/bin/jhat (jhat) in auto mode\n",
            "update-alternatives: using /usr/lib/jvm/java-8-openjdk-amd64/bin/jsadebugd to provide /usr/bin/jsadebugd (jsadebugd) in auto mode\n",
            "update-alternatives: using /usr/lib/jvm/java-8-openjdk-amd64/bin/native2ascii to provide /usr/bin/native2ascii (native2ascii) in auto mode\n",
            "update-alternatives: using /usr/lib/jvm/java-8-openjdk-amd64/bin/schemagen to provide /usr/bin/schemagen (schemagen) in auto mode\n",
            "update-alternatives: using /usr/lib/jvm/java-8-openjdk-amd64/bin/wsgen to provide /usr/bin/wsgen (wsgen) in auto mode\n",
            "update-alternatives: using /usr/lib/jvm/java-8-openjdk-amd64/bin/wsimport to provide /usr/bin/wsimport (wsimport) in auto mode\n",
            "update-alternatives: using /usr/lib/jvm/java-8-openjdk-amd64/bin/xjc to provide /usr/bin/xjc (xjc) in auto mode\n",
            "Processing triggers for libc-bin (2.35-0ubuntu3.4) ...\n",
            "/sbin/ldconfig.real: /usr/local/lib/libtbbmalloc_proxy.so.2 is not a symbolic link\n",
            "\n",
            "/sbin/ldconfig.real: /usr/local/lib/libtbbbind_2_0.so.3 is not a symbolic link\n",
            "\n",
            "/sbin/ldconfig.real: /usr/local/lib/libtbbbind_2_5.so.3 is not a symbolic link\n",
            "\n",
            "/sbin/ldconfig.real: /usr/local/lib/libtbbmalloc.so.2 is not a symbolic link\n",
            "\n",
            "/sbin/ldconfig.real: /usr/local/lib/libtbbbind.so.3 is not a symbolic link\n",
            "\n",
            "/sbin/ldconfig.real: /usr/local/lib/libtbb.so.12 is not a symbolic link\n",
            "\n",
            "\u001b[2K     \u001b[90m━━━━━━━━━━━━━━━━━━━━━━━━━━━━━━━━━━━━━━━━\u001b[0m \u001b[32m154.7/154.7 kB\u001b[0m \u001b[31m3.5 MB/s\u001b[0m eta \u001b[36m0:00:00\u001b[0m\n",
            "\u001b[?25h--2024-02-21 15:22:42--  https://repos.spark-packages.org/graphframes/graphframes/0.8.2-spark3.2-s_2.12/graphframes-0.8.2-spark3.2-s_2.12.jar\n",
            "Resolving repos.spark-packages.org (repos.spark-packages.org)... 13.35.166.78, 13.35.166.93, 13.35.166.66, ...\n",
            "Connecting to repos.spark-packages.org (repos.spark-packages.org)|13.35.166.78|:443... connected.\n",
            "HTTP request sent, awaiting response... 200 OK\n",
            "Length: 247880 (242K) [binary/octet-stream]\n",
            "Saving to: ‘/usr/local/lib/python3.7/dist-packages/pyspark/jars/graphframes-0.8.2-spark3.2-s_2.12.jar’\n",
            "\n",
            "graphframes-0.8.2-s 100%[===================>] 242.07K  --.-KB/s    in 0.01s   \n",
            "\n",
            "2024-02-21 15:22:43 (19.3 MB/s) - ‘/usr/local/lib/python3.7/dist-packages/pyspark/jars/graphframes-0.8.2-spark3.2-s_2.12.jar’ saved [247880/247880]\n",
            "\n"
          ]
        }
      ]
    },
    {
      "cell_type": "code",
      "source": [
        "# Initializing spark context\n",
        "# create a spark context and session\n",
        "conf = SparkConf().set(\"spark.ui.port\", \"4050\")\n",
        "conf.set(\"spark.jars.packages\", \"graphframes:graphframes:0.8.2-spark3.2-s_2.12\")\n",
        "sc = pyspark.SparkContext(conf=conf)\n",
        "sc.addPyFile(str(Path(spark_jars) / Path(graphframes_jar).name))\n",
        "spark = SparkSession.builder.getOrCreate()"
      ],
      "metadata": {
        "id": "8KS5kAHyWPJa"
      },
      "execution_count": 3,
      "outputs": []
    },
    {
      "cell_type": "code",
      "source": [
        "# Authenticate your user\n",
        "# The authentication should be done with the email connected to your GCP account\n",
        "from google.colab import auth\n",
        "import signal\n",
        "\n",
        "AUTH_TIMEOUT = 30000000\n",
        "\n",
        "def handler(signum, frame):\n",
        "  raise Exception(\"Authentication timeout!\")\n",
        "\n",
        "signal.signal(signal.SIGALRM, handler)\n",
        "signal.alarm(AUTH_TIMEOUT)\n",
        "\n",
        "try:\n",
        "   auth.authenticate_user()\n",
        "except:\n",
        "   pass"
      ],
      "metadata": {
        "id": "CUsn6gkFWawY"
      },
      "execution_count": 4,
      "outputs": []
    },
    {
      "cell_type": "code",
      "source": [
        "# Copy one wikidumps files\n",
        "import os\n",
        "from pathlib import Path\n",
        "from google.colab import auth\n",
        "## RENAME the project_id to yours project id from the project you created in GCP\n",
        "project_id = 'informationretrievalex3'\n",
        "!gcloud config set project {project_id}\n",
        "\n",
        "data_bucket_name = 'wikidata20210801_preprocessed'\n",
        "try:\n",
        "    if os.environ[\"wikidata_preprocessed\"] is not None:\n",
        "        pass\n",
        "except:\n",
        "      !mkdir wikidumps\n",
        "      !gsutil -u {project_id} cp gs://{data_bucket_name}/multistream1_preprocessed.parquet \"wikidumps/\""
      ],
      "metadata": {
        "id": "-1MvoXl3W3GG",
        "colab": {
          "base_uri": "https://localhost:8080/"
        },
        "outputId": "1c61b663-e2b4-4ffb-b87c-8b1f6cf96894"
      },
      "execution_count": 5,
      "outputs": [
        {
          "output_type": "stream",
          "name": "stdout",
          "text": [
            "Updated property [core/project].\n",
            "Copying gs://wikidata20210801_preprocessed/multistream1_preprocessed.parquet...\n",
            "==> NOTE: You are downloading one or more large file(s), which would\n",
            "run significantly faster if you enabled sliced object downloads. This\n",
            "feature is enabled by default but requires that compiled crcmod be\n",
            "installed (see \"gsutil help crcmod\").\n",
            "\n",
            "/ [1 files][316.7 MiB/316.7 MiB]   22.2 MiB/s                                   \n",
            "Operation completed over 1 objects/316.7 MiB.                                    \n"
          ]
        }
      ]
    },
    {
      "cell_type": "code",
      "source": [
        "from pathlib import Path\n",
        "import os\n",
        "\n",
        "try:\n",
        "    if os.environ[\"wikidata_preprocessed\"] is not None:\n",
        "      path = os.environ[\"wikidata_preprocessed\"]+\"/wikidumps/*\"\n",
        "except:\n",
        "      path = \"wikidumps/*\"\n",
        "\n",
        "parquetFile = spark.read.parquet(path)\n",
        "# take the 'text' and 'id' or the first 1000 rows and create an RDD from it\n",
        "doc_text_pairs = parquetFile.limit(1000).select(\"text\", \"id\").rdd\n"
      ],
      "metadata": {
        "id": "t_jiEwE7XB1W"
      },
      "execution_count": 6,
      "outputs": []
    },
    {
      "cell_type": "markdown",
      "source": [
        "**Count the frequency of each word in docunment**"
      ],
      "metadata": {
        "id": "YdWW0hJ7hzg9"
      }
    },
    {
      "cell_type": "code",
      "source": [
        "english_stopwords = frozenset(stopwords.words('english'))\n",
        "corpus_stopwords = ['category', 'references', 'also', 'links', 'extenal', 'see', 'thumb']\n",
        "RE_WORD = re.compile(r\"\"\"[\\#\\@\\w](['\\-]?\\w){2,24}\"\"\", re.UNICODE)\n",
        "\n",
        "all_stopwords = english_stopwords.union(corpus_stopwords)\n",
        "\n",
        "\"\"\"\n",
        "Count the frequency of each word in docunment\n",
        "Parameters:\n",
        "  text: (str) Text of one document\n",
        "  id: (int) Document id\n",
        "  withTFnormal (bool) if normalization by leanght of the document\n",
        "Returns:\n",
        "  List of tuples: A list of (token, (doc_id, tf))\n",
        "\"\"\"\n",
        "\n",
        "l = [\"barcelona\", \"ring\"]\n",
        "def word_count(text, id, withTFnormal=False, keyIsDoc=False):\n",
        "\n",
        "  tokens = [token.group() for token in RE_WORD.finditer(text.lower())]\n",
        "  sizeOfDoc = 0\n",
        "  word_counts = Counter()\n",
        "\n",
        "  for token in tokens:\n",
        "    if ((token not in all_stopwords) and token in l):\n",
        "      word_counts[token] += 1\n",
        "      sizeOfDoc += 1\n",
        "\n",
        "  if (keyIsDoc):\n",
        "    return [(id, (token, count/sizeOfDoc)) for token, count in word_counts.items()]\n",
        "\n",
        "  if(not withTFnormal):\n",
        "    return [(token, (id, count)) for token, count in word_counts.items()]\n",
        "\n",
        "  return [(token, (id, count/sizeOfDoc)) for token, count in word_counts.items()]\n",
        "\n"
      ],
      "metadata": {
        "id": "ZzpnDWdsXiq0"
      },
      "execution_count": 135,
      "outputs": []
    },
    {
      "cell_type": "code",
      "source": [
        "word_counts = doc_text_pairs.flatMap(lambda x: word_count(x[0], x[1]))    # Count the frequency of each word in docunment without normalization,"
      ],
      "metadata": {
        "id": "Pwlj_w9ObYO0"
      },
      "execution_count": 136,
      "outputs": []
    },
    {
      "cell_type": "markdown",
      "source": [
        "**sorted posting list by wiki_id**"
      ],
      "metadata": {
        "id": "Ja9zqbjXh9sE"
      }
    },
    {
      "cell_type": "code",
      "source": [
        "\"\"\"\n",
        "Returns a sorted posting list by wiki_id.\n",
        "Parameters:\n",
        "  unsorted_pl: list of tuples - A list of (wiki_id, tf) tuples\n",
        "Returns:\n",
        "    list of tuples A sorted posting list.\n",
        "\"\"\"\n",
        "def reduce_word_counts(unsorted_pl):\n",
        "  return sorted(unsorted_pl, key=lambda x: x[0])"
      ],
      "metadata": {
        "id": "XKstpiUBeg4v"
      },
      "execution_count": 137,
      "outputs": []
    },
    {
      "cell_type": "code",
      "source": [
        "postings = word_counts.groupByKey().mapValues(reduce_word_counts)   # Sort by document id and then merge by term.\n",
        "postings_filtered = postings.filter(lambda x: len(x[1])>1)         # Filter out rare words\n",
        "postings_filtered.count()"
      ],
      "metadata": {
        "id": "twadmG79e8Aa",
        "colab": {
          "base_uri": "https://localhost:8080/"
        },
        "outputId": "1de89c00-da07-4c56-c8d7-fab79dafdfe6"
      },
      "execution_count": 138,
      "outputs": [
        {
          "output_type": "execute_result",
          "data": {
            "text/plain": [
              "2"
            ]
          },
          "metadata": {},
          "execution_count": 138
        }
      ]
    },
    {
      "cell_type": "markdown",
      "source": [
        "**Takes a posting list RDD and calculate the df for each token**"
      ],
      "metadata": {
        "id": "9iSnf-S-ijt6"
      }
    },
    {
      "cell_type": "code",
      "source": [
        "\"\"\"\n",
        "Takes a posting list RDD and calculate the df for each token.\n",
        "Parameters:\n",
        "  postings: (RDD) An RDD where each element is a (token, posting_list).\n",
        "Returns:\n",
        "  An RDD where each element is a (token, df) pair.\n",
        "\"\"\"\n",
        "def calculate_df(postings):\n",
        "  return postings.map(lambda x: (x[0], len(x[1])))"
      ],
      "metadata": {
        "id": "1TIOW9ugmol_"
      },
      "execution_count": 139,
      "outputs": []
    },
    {
      "cell_type": "code",
      "source": [
        "w2df_dict = (calculate_df(postings_filtered)).collectAsMap()    # Create dict of df"
      ],
      "metadata": {
        "id": "HjsQ048WoWG_"
      },
      "execution_count": 140,
      "outputs": []
    },
    {
      "cell_type": "markdown",
      "source": [
        "**A function that partitions the posting lists into buckets, writes out all posting lists in a bucket to disk**"
      ],
      "metadata": {
        "id": "iKcaedPViqtP"
      }
    },
    {
      "cell_type": "code",
      "source": [
        "NUM_BUCKETS = 124\n",
        "def token2bucket_id(token):\n",
        "  return int(_hash(token),16) % NUM_BUCKETS\n",
        "\n",
        "\"\"\"\n",
        "A function that partitions the posting lists into buckets, writes out all posting lists in a bucket to disk.\n",
        "Parameters:\n",
        "  postings: (RDD) An RDD where each item is a (w, posting_list) pair.\n",
        "Returns:\n",
        "  An RDD where each item is a posting locations dictionary for a bucket.\n",
        "\"\"\"\n",
        "def partition_postings_and_write(postings):\n",
        "\n",
        "  bucketed_postings = postings.map(lambda x: (token2bucket_id(x[0]), [(x[0], x[1])]))         # Assign each token to a bucket\n",
        "  grouped_postings = bucketed_postings.reduceByKey(lambda x, y: x + y)                        # Group the postings by bucket\n",
        "  posting_locations = grouped_postings.map(lambda x: InvertedIndex.write_a_posting_list(x))   # Write out each bucket and collect posting locations\n",
        "\n",
        "  return posting_locations"
      ],
      "metadata": {
        "id": "Zyz2obcf9zeV"
      },
      "execution_count": 141,
      "outputs": []
    },
    {
      "cell_type": "code",
      "source": [
        "# Merge the posting locations into a single dict.\n",
        "posting_locs_list = partition_postings_and_write(postings).collect()\n",
        "super_posting_locs = defaultdict(list)\n",
        "for posting_loc in posting_locs_list:\n",
        "  for k, v in posting_loc.items():\n",
        "    super_posting_locs[k].extend(v)\n"
      ],
      "metadata": {
        "id": "oIxjkwZF-9MM"
      },
      "execution_count": 142,
      "outputs": []
    },
    {
      "cell_type": "markdown",
      "source": [
        "**Create tf-idf dictionary**"
      ],
      "metadata": {
        "id": "pa9XHqYRixac"
      }
    },
    {
      "cell_type": "code",
      "source": [
        "# Create tf-idf dictionary\n",
        "\n",
        "N = 1000;\n",
        "\n",
        "word_TF = doc_text_pairs.flatMap(lambda x: word_count(x[0], x[1], True))\n",
        "postings_TF = word_TF.groupByKey().mapValues(reduce_word_counts)\n",
        "postings_TF_filtered = postings_TF.filter(lambda x: len(x[1])>10)\n",
        "\n",
        "postings_TF_IDF_filtered = postings_TF_filtered.map(lambda x: (x[0], updated_value_function(x[0],x[1])))\n",
        "\n",
        "def updated_value_function(term, post):\n",
        "    return list(map(lambda x: (x[0], x[1]*math.log10(N/w2df_dict[term])), post))\n",
        "\n",
        "postings_TF_IDF_filtered_dict = postings_TF_IDF_filtered.collectAsMap()"
      ],
      "metadata": {
        "id": "njn7o34abqIo"
      },
      "execution_count": 143,
      "outputs": []
    },
    {
      "cell_type": "code",
      "source": [
        "postings_TF_filtered.take(1)"
      ],
      "metadata": {
        "colab": {
          "base_uri": "https://localhost:8080/"
        },
        "id": "2zC6_l8bd9sT",
        "outputId": "2efb7231-2899-4050-aab4-0525d4ff3b1b"
      },
      "execution_count": 144,
      "outputs": [
        {
          "output_type": "execute_result",
          "data": {
            "text/plain": [
              "[('barcelona',\n",
              "  [(12, 1.0),\n",
              "   (330, 1.0),\n",
              "   (599, 1.0),\n",
              "   (600, 1.0),\n",
              "   (689, 1.0),\n",
              "   (738, 1.0),\n",
              "   (844, 0.25),\n",
              "   (848, 0.3333333333333333),\n",
              "   (1019, 1.0),\n",
              "   (1029, 0.5),\n",
              "   (1096, 1.0),\n",
              "   (1098, 0.5),\n",
              "   (1322, 0.875),\n",
              "   (1324, 1.0),\n",
              "   (1325, 1.0),\n",
              "   (1373, 1.0),\n",
              "   (1397, 1.0),\n",
              "   (1490, 1.0),\n",
              "   (1657, 1.0),\n",
              "   (1663, 1.0),\n",
              "   (1676, 1.0),\n",
              "   (1677, 1.0),\n",
              "   (1679, 1.0),\n",
              "   (1683, 1.0),\n",
              "   (1684, 1.0),\n",
              "   (1686, 1.0),\n",
              "   (1786, 1.0),\n",
              "   (1879, 1.0),\n",
              "   (1937, 0.6666666666666666),\n",
              "   (1990, 1.0),\n",
              "   (2174, 1.0),\n",
              "   (2178, 0.5),\n",
              "   (2273, 0.8571428571428571),\n",
              "   (2279, 1.0),\n",
              "   (2289, 1.0),\n",
              "   (2358, 1.0),\n",
              "   (2398, 1.0),\n",
              "   (2417, 1.0),\n",
              "   (2448, 1.0)])]"
            ]
          },
          "metadata": {},
          "execution_count": 144
        }
      ]
    },
    {
      "cell_type": "markdown",
      "source": [
        "**Create nf dictionary**"
      ],
      "metadata": {
        "id": "cuWgbUvZacs3"
      }
    },
    {
      "cell_type": "code",
      "source": [
        "Doc_TF = doc_text_pairs.flatMap(lambda x: word_count(x[0], x[1], True,True))\n",
        "Doc_TF = Doc_TF.groupByKey().mapValues(reduce_word_counts)\n",
        "\n",
        "Doc_TF_IDF_filtered = Doc_TF.map(lambda x: (x[0], updated_value_function2(x[1])))\n",
        "def updated_value_function2(post):\n",
        "  listTermTfIdF = []\n",
        "\n",
        "  for term, tf in post:\n",
        "    if (term in w2df_dict):\n",
        "      listTermTfIdF.append((term, tf * math.log10(N / w2df_dict[term])))\n",
        "\n",
        "  nf = 0\n",
        "  for term, tfIdf in listTermTfIdF:\n",
        "    nf = nf + tfIdf ** 2\n",
        "  nf = 1/math.sqrt(nf)\n",
        "\n",
        "  return nf\n",
        "\n",
        "Doc_TF_IDF_filtered_dict = Doc_TF_IDF_filtered.collectAsMap()"
      ],
      "metadata": {
        "id": "jV6L10QkabWU"
      },
      "execution_count": 145,
      "outputs": []
    },
    {
      "cell_type": "markdown",
      "source": [
        "**write the global stats out**"
      ],
      "metadata": {
        "id": "usUa1RW_jAFd"
      }
    },
    {
      "cell_type": "code",
      "source": [
        "inverted = InvertedIndex()                            # Create inverted index instance\n",
        "inverted.posting_locs = super_posting_locs            # Adding the posting locations dictionary to the inverted index\n",
        "inverted.df = w2df_dict                               # Add the df dictionary to the inverted index\n",
        "inverted.tfidf = postings_TF_IDF_filtered_dict;       # Add the tfidf dictionary to the inverted index\n",
        "inverted.nf = Doc_TF_IDF_filtered_dict\n",
        "inverted.write_index('.', 'index')                    # write the global stats out\n"
      ],
      "metadata": {
        "id": "nhflKYa8KFPE"
      },
      "execution_count": 146,
      "outputs": []
    },
    {
      "cell_type": "code",
      "source": [
        "inverted_index = InvertedIndex.read_index('.', 'index')"
      ],
      "metadata": {
        "id": "Qbm_iDw8Oaoe"
      },
      "execution_count": 147,
      "outputs": []
    },
    {
      "cell_type": "code",
      "source": [
        "simDoc = Counter()\n",
        "query = \"ring\"\n",
        "query = dict(word_count(query, 0, True))\n",
        "for term, value in query.items():\n",
        "  query[term] = (value[0], value[1] * math.log10(N / w2df_dict[term]))\n",
        "\n",
        "nfQuery = 0\n",
        "for term, value in query.items():\n",
        "  nfQuery = nfQuery + value[1] ** 2\n",
        "nfQuery = 1/math.sqrt(nfQuery)\n",
        "\n",
        "\n",
        "for term,  value in query.items():\n",
        "  docTfItf = inverted.tfidf[term]\n",
        "  for doc, weight in docTfItf:\n",
        "    simDoc[doc] += value[1] * weight\n",
        "\n",
        "for doc, sim in simDoc.items():\n",
        "  simDoc[doc] = simDoc[doc] * nfQuery * inverted.nf[doc]\n",
        "\n",
        "top_10_similar_docs = simDoc.most_common(10)\n",
        "\n",
        "print(top_10_similar_docs)"
      ],
      "metadata": {
        "colab": {
          "base_uri": "https://localhost:8080/"
        },
        "id": "U6dWNwW8RY5U",
        "outputId": "da0447e4-22d2-4170-fe93-a2a37106317f"
      },
      "execution_count": 152,
      "outputs": [
        {
          "output_type": "stream",
          "name": "stdout",
          "text": [
            "[(316, 1.0), (639, 1.0), (657, 1.0), (666, 1.0), (674, 1.0), (679, 1.0), (680, 1.0), (737, 1.0), (740, 1.0), (771, 1.0)]\n"
          ]
        }
      ]
    }
  ]
}