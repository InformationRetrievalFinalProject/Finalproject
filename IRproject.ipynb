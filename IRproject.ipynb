{
  "nbformat": 4,
  "nbformat_minor": 0,
  "metadata": {
    "colab": {
      "provenance": []
    },
    "kernelspec": {
      "name": "python3",
      "display_name": "Python 3"
    },
    "language_info": {
      "name": "python"
    }
  },
  "cells": [
    {
      "cell_type": "code",
      "execution_count": 1,
      "metadata": {
        "colab": {
          "base_uri": "https://localhost:8080/"
        },
        "id": "BzB_nl4ZVpEb",
        "outputId": "56932f93-5ff4-4469-91b3-f9adac0d1e80"
      },
      "outputs": [
        {
          "output_type": "stream",
          "name": "stderr",
          "text": [
            "[nltk_data] Downloading package stopwords to /root/nltk_data...\n",
            "[nltk_data]   Unzipping corpora/stopwords.zip.\n"
          ]
        }
      ],
      "source": [
        "import sys\n",
        "from collections import Counter, OrderedDict\n",
        "import itertools\n",
        "from itertools import islice, count, groupby\n",
        "import pandas as pd\n",
        "import os\n",
        "import re\n",
        "from operator import itemgetter\n",
        "import nltk\n",
        "from nltk.stem.porter import *\n",
        "from nltk.corpus import stopwords\n",
        "from time import time\n",
        "from timeit import timeit\n",
        "from pathlib import Path\n",
        "import pickle\n",
        "import pandas as pd\n",
        "import numpy as np\n",
        "from google.cloud import storage\n",
        "import math\n",
        "import hashlib\n",
        "\n",
        "def _hash(s):\n",
        "    return hashlib.blake2b(bytes(s, encoding='utf8'), digest_size=5).hexdigest()\n",
        "\n",
        "nltk.download('stopwords')\n",
        "\n",
        "from inverted_index_colab import *\n"
      ]
    },
    {
      "cell_type": "code",
      "source": [
        "# These will already be installed in the testing environment so disregard the\n",
        "# amount of time (~1 minute) it takes to install.\n",
        "!pip install -q pyspark\n",
        "!pip install -U -q PyDrive\n",
        "!apt install openjdk-8-jdk-headless -qq\n",
        "!pip install -q graphframes\n",
        "import os\n",
        "os.environ[\"JAVA_HOME\"] = \"/usr/lib/jvm/java-8-openjdk-amd64\"\n",
        "graphframes_jar = 'https://repos.spark-packages.org/graphframes/graphframes/0.8.2-spark3.2-s_2.12/graphframes-0.8.2-spark3.2-s_2.12.jar'\n",
        "spark_jars = '/usr/local/lib/python3.7/dist-packages/pyspark/jars'\n",
        "!wget -N -P $spark_jars $graphframes_jar\n",
        "import pyspark\n",
        "from pyspark.sql import *\n",
        "from pyspark.sql.functions import *\n",
        "from pyspark import SparkContext, SparkConf\n",
        "from pyspark.sql import SQLContext\n",
        "from pyspark.ml.feature import Tokenizer, RegexTokenizer\n",
        "from graphframes import *"
      ],
      "metadata": {
        "colab": {
          "base_uri": "https://localhost:8080/"
        },
        "id": "0YsZnKD4V_KX",
        "outputId": "ecb051ed-7d6a-45b9-d3b6-0e6c1579fc52"
      },
      "execution_count": 2,
      "outputs": [
        {
          "output_type": "stream",
          "name": "stdout",
          "text": [
            "\u001b[2K     \u001b[90m━━━━━━━━━━━━━━━━━━━━━━━━━━━━━━━━━━━━━━━━\u001b[0m \u001b[32m316.9/316.9 MB\u001b[0m \u001b[31m4.1 MB/s\u001b[0m eta \u001b[36m0:00:00\u001b[0m\n",
            "\u001b[?25h  Preparing metadata (setup.py) ... \u001b[?25l\u001b[?25hdone\n",
            "  Building wheel for pyspark (setup.py) ... \u001b[?25l\u001b[?25hdone\n",
            "The following additional packages will be installed:\n",
            "  libxtst6 openjdk-8-jre-headless\n",
            "Suggested packages:\n",
            "  openjdk-8-demo openjdk-8-source libnss-mdns fonts-dejavu-extra fonts-nanum fonts-ipafont-gothic\n",
            "  fonts-ipafont-mincho fonts-wqy-microhei fonts-wqy-zenhei fonts-indic\n",
            "The following NEW packages will be installed:\n",
            "  libxtst6 openjdk-8-jdk-headless openjdk-8-jre-headless\n",
            "0 upgraded, 3 newly installed, 0 to remove and 33 not upgraded.\n",
            "Need to get 39.7 MB of archives.\n",
            "After this operation, 144 MB of additional disk space will be used.\n",
            "Selecting previously unselected package libxtst6:amd64.\n",
            "(Reading database ... 121749 files and directories currently installed.)\n",
            "Preparing to unpack .../libxtst6_2%3a1.2.3-1build4_amd64.deb ...\n",
            "Unpacking libxtst6:amd64 (2:1.2.3-1build4) ...\n",
            "Selecting previously unselected package openjdk-8-jre-headless:amd64.\n",
            "Preparing to unpack .../openjdk-8-jre-headless_8u392-ga-1~22.04_amd64.deb ...\n",
            "Unpacking openjdk-8-jre-headless:amd64 (8u392-ga-1~22.04) ...\n",
            "Selecting previously unselected package openjdk-8-jdk-headless:amd64.\n",
            "Preparing to unpack .../openjdk-8-jdk-headless_8u392-ga-1~22.04_amd64.deb ...\n",
            "Unpacking openjdk-8-jdk-headless:amd64 (8u392-ga-1~22.04) ...\n",
            "Setting up libxtst6:amd64 (2:1.2.3-1build4) ...\n",
            "Setting up openjdk-8-jre-headless:amd64 (8u392-ga-1~22.04) ...\n",
            "update-alternatives: using /usr/lib/jvm/java-8-openjdk-amd64/jre/bin/orbd to provide /usr/bin/orbd (orbd) in auto mode\n",
            "update-alternatives: using /usr/lib/jvm/java-8-openjdk-amd64/jre/bin/servertool to provide /usr/bin/servertool (servertool) in auto mode\n",
            "update-alternatives: using /usr/lib/jvm/java-8-openjdk-amd64/jre/bin/tnameserv to provide /usr/bin/tnameserv (tnameserv) in auto mode\n",
            "Setting up openjdk-8-jdk-headless:amd64 (8u392-ga-1~22.04) ...\n",
            "update-alternatives: using /usr/lib/jvm/java-8-openjdk-amd64/bin/clhsdb to provide /usr/bin/clhsdb (clhsdb) in auto mode\n",
            "update-alternatives: using /usr/lib/jvm/java-8-openjdk-amd64/bin/extcheck to provide /usr/bin/extcheck (extcheck) in auto mode\n",
            "update-alternatives: using /usr/lib/jvm/java-8-openjdk-amd64/bin/hsdb to provide /usr/bin/hsdb (hsdb) in auto mode\n",
            "update-alternatives: using /usr/lib/jvm/java-8-openjdk-amd64/bin/idlj to provide /usr/bin/idlj (idlj) in auto mode\n",
            "update-alternatives: using /usr/lib/jvm/java-8-openjdk-amd64/bin/javah to provide /usr/bin/javah (javah) in auto mode\n",
            "update-alternatives: using /usr/lib/jvm/java-8-openjdk-amd64/bin/jhat to provide /usr/bin/jhat (jhat) in auto mode\n",
            "update-alternatives: using /usr/lib/jvm/java-8-openjdk-amd64/bin/jsadebugd to provide /usr/bin/jsadebugd (jsadebugd) in auto mode\n",
            "update-alternatives: using /usr/lib/jvm/java-8-openjdk-amd64/bin/native2ascii to provide /usr/bin/native2ascii (native2ascii) in auto mode\n",
            "update-alternatives: using /usr/lib/jvm/java-8-openjdk-amd64/bin/schemagen to provide /usr/bin/schemagen (schemagen) in auto mode\n",
            "update-alternatives: using /usr/lib/jvm/java-8-openjdk-amd64/bin/wsgen to provide /usr/bin/wsgen (wsgen) in auto mode\n",
            "update-alternatives: using /usr/lib/jvm/java-8-openjdk-amd64/bin/wsimport to provide /usr/bin/wsimport (wsimport) in auto mode\n",
            "update-alternatives: using /usr/lib/jvm/java-8-openjdk-amd64/bin/xjc to provide /usr/bin/xjc (xjc) in auto mode\n",
            "Processing triggers for libc-bin (2.35-0ubuntu3.4) ...\n",
            "/sbin/ldconfig.real: /usr/local/lib/libtbbmalloc.so.2 is not a symbolic link\n",
            "\n",
            "/sbin/ldconfig.real: /usr/local/lib/libtbbmalloc_proxy.so.2 is not a symbolic link\n",
            "\n",
            "/sbin/ldconfig.real: /usr/local/lib/libtbb.so.12 is not a symbolic link\n",
            "\n",
            "/sbin/ldconfig.real: /usr/local/lib/libtbbbind.so.3 is not a symbolic link\n",
            "\n",
            "/sbin/ldconfig.real: /usr/local/lib/libtbbbind_2_0.so.3 is not a symbolic link\n",
            "\n",
            "/sbin/ldconfig.real: /usr/local/lib/libtbbbind_2_5.so.3 is not a symbolic link\n",
            "\n",
            "\u001b[2K     \u001b[90m━━━━━━━━━━━━━━━━━━━━━━━━━━━━━━━━━━━━━━━━\u001b[0m \u001b[32m154.7/154.7 kB\u001b[0m \u001b[31m4.0 MB/s\u001b[0m eta \u001b[36m0:00:00\u001b[0m\n",
            "\u001b[?25h--2024-02-18 12:26:49--  https://repos.spark-packages.org/graphframes/graphframes/0.8.2-spark3.2-s_2.12/graphframes-0.8.2-spark3.2-s_2.12.jar\n",
            "Resolving repos.spark-packages.org (repos.spark-packages.org)... 18.173.166.117, 18.173.166.6, 18.173.166.39, ...\n",
            "Connecting to repos.spark-packages.org (repos.spark-packages.org)|18.173.166.117|:443... connected.\n",
            "HTTP request sent, awaiting response... 200 OK\n",
            "Length: 247880 (242K) [binary/octet-stream]\n",
            "Saving to: ‘/usr/local/lib/python3.7/dist-packages/pyspark/jars/graphframes-0.8.2-spark3.2-s_2.12.jar’\n",
            "\n",
            "graphframes-0.8.2-s 100%[===================>] 242.07K  --.-KB/s    in 0.06s   \n",
            "\n",
            "2024-02-18 12:26:50 (4.03 MB/s) - ‘/usr/local/lib/python3.7/dist-packages/pyspark/jars/graphframes-0.8.2-spark3.2-s_2.12.jar’ saved [247880/247880]\n",
            "\n"
          ]
        }
      ]
    },
    {
      "cell_type": "code",
      "source": [
        "# Initializing spark context\n",
        "# create a spark context and session\n",
        "conf = SparkConf().set(\"spark.ui.port\", \"4050\")\n",
        "conf.set(\"spark.jars.packages\", \"graphframes:graphframes:0.8.2-spark3.2-s_2.12\")\n",
        "sc = pyspark.SparkContext(conf=conf)\n",
        "sc.addPyFile(str(Path(spark_jars) / Path(graphframes_jar).name))\n",
        "spark = SparkSession.builder.getOrCreate()"
      ],
      "metadata": {
        "id": "8KS5kAHyWPJa"
      },
      "execution_count": 3,
      "outputs": []
    },
    {
      "cell_type": "code",
      "source": [
        "# Authenticate your user\n",
        "# The authentication should be done with the email connected to your GCP account\n",
        "from google.colab import auth\n",
        "import signal\n",
        "\n",
        "AUTH_TIMEOUT = 30000000\n",
        "\n",
        "def handler(signum, frame):\n",
        "  raise Exception(\"Authentication timeout!\")\n",
        "\n",
        "signal.signal(signal.SIGALRM, handler)\n",
        "signal.alarm(AUTH_TIMEOUT)\n",
        "\n",
        "try:\n",
        "   auth.authenticate_user()\n",
        "except:\n",
        "   pass"
      ],
      "metadata": {
        "id": "CUsn6gkFWawY"
      },
      "execution_count": 4,
      "outputs": []
    },
    {
      "cell_type": "code",
      "source": [
        "# Copy one wikidumps files\n",
        "import os\n",
        "from pathlib import Path\n",
        "from google.colab import auth\n",
        "## RENAME the project_id to yours project id from the project you created in GCP\n",
        "project_id = 'ass3-414106'\n",
        "!gcloud config set project {project_id}\n",
        "\n",
        "data_bucket_name = 'wikidata20210801_preprocessed'\n",
        "try:\n",
        "    if os.environ[\"wikidata_preprocessed\"] is not None:\n",
        "        pass\n",
        "except:\n",
        "      !mkdir wikidumps\n",
        "      !gsutil -u {project_id} cp gs://{data_bucket_name}/multistream1_preprocessed.parquet \"wikidumps/\""
      ],
      "metadata": {
        "colab": {
          "base_uri": "https://localhost:8080/"
        },
        "id": "-1MvoXl3W3GG",
        "outputId": "ba19475e-a35b-4518-99ba-4d784dcd2110"
      },
      "execution_count": 5,
      "outputs": [
        {
          "output_type": "stream",
          "name": "stdout",
          "text": [
            "Updated property [core/project].\n",
            "Copying gs://wikidata20210801_preprocessed/multistream1_preprocessed.parquet...\n",
            "==> NOTE: You are downloading one or more large file(s), which would\n",
            "run significantly faster if you enabled sliced object downloads. This\n",
            "feature is enabled by default but requires that compiled crcmod be\n",
            "installed (see \"gsutil help crcmod\").\n",
            "\n",
            "- [1 files][316.7 MiB/316.7 MiB]                                                \n",
            "Operation completed over 1 objects/316.7 MiB.                                    \n"
          ]
        }
      ]
    },
    {
      "cell_type": "code",
      "source": [
        "from pathlib import Path\n",
        "import os\n",
        "\n",
        "try:\n",
        "    if os.environ[\"wikidata_preprocessed\"] is not None:\n",
        "      path = os.environ[\"wikidata_preprocessed\"]+\"/wikidumps/*\"\n",
        "except:\n",
        "      path = \"wikidumps/*\"\n",
        "\n",
        "parquetFile = spark.read.parquet(path)\n",
        "# take the 'text' and 'id' or the first 1000 rows and create an RDD from it\n",
        "doc_text_pairs = parquetFile.limit(1000).select(\"text\", \"id\").rdd\n"
      ],
      "metadata": {
        "id": "t_jiEwE7XB1W"
      },
      "execution_count": 6,
      "outputs": []
    },
    {
      "cell_type": "code",
      "source": [
        "english_stopwords = frozenset(stopwords.words('english'))\n",
        "corpus_stopwords = ['category', 'references', 'also', 'links', 'extenal', 'see', 'thumb']\n",
        "RE_WORD = re.compile(r\"\"\"[\\#\\@\\w](['\\-]?\\w){2,24}\"\"\", re.UNICODE)\n",
        "\n",
        "all_stopwords = english_stopwords.union(corpus_stopwords)\n",
        "\n",
        "def word_count(text, id, withTF=False):\n",
        "  ''' Count the frequency of each word in `text` (tf) that is not included in\n",
        "  `all_stopwords` and return entries that will go into our posting lists.\n",
        "  Parameters:\n",
        "  -----------\n",
        "    text: str\n",
        "      Text of one document\n",
        "    id: int\n",
        "      Document id\n",
        "  Returns:\n",
        "  --------\n",
        "    List of tuples\n",
        "      A list of (token, (doc_id, tf)) pairs\n",
        "      for example: [(\"Anarchism\", (12, 5)), ...]\n",
        "  '''\n",
        "  tokens = [token.group() for token in RE_WORD.finditer(text.lower())]\n",
        "  size = 0\n",
        "  word_counts = Counter()\n",
        "\n",
        "  for token in tokens:\n",
        "      if token not in all_stopwords:\n",
        "          word_counts[token] += 1\n",
        "          size += 1\n",
        "\n",
        "  # Create tuples of (token, (doc_id, tf))\n",
        "  if(not withTF):\n",
        "    result = [(token, (id, count)) for token, count in word_counts.items()]\n",
        "  else:\n",
        "    result = [(token, (id, count/size)) for token, count in word_counts.items()]\n",
        "\n",
        "  return result\n",
        ""
      ],
      "metadata": {
        "id": "ZzpnDWdsXiq0"
      },
      "execution_count": 7,
      "outputs": []
    },
    {
      "cell_type": "code",
      "source": [
        "word_counts = doc_text_pairs.flatMap(lambda x: word_count(x[0], x[1]))\n",
        "word_TF = doc_text_pairs.flatMap(lambda x: word_count(x[0], x[1],True))\n",
        "\n",
        "word_counts.take(1)"
      ],
      "metadata": {
        "colab": {
          "base_uri": "https://localhost:8080/"
        },
        "id": "Pwlj_w9ObYO0",
        "outputId": "87df903d-ffb1-4bda-e110-8b8f6adf288f"
      },
      "execution_count": 8,
      "outputs": [
        {
          "output_type": "execute_result",
          "data": {
            "text/plain": [
              "[('anarchism', (12, 125))]"
            ]
          },
          "metadata": {},
          "execution_count": 8
        }
      ]
    },
    {
      "cell_type": "code",
      "source": [
        "def reduce_word_counts(unsorted_pl):\n",
        "  ''' Returns a sorted posting list by wiki_id.\n",
        "  Parameters:\n",
        "  -----------\n",
        "    unsorted_pl: list of tuples\n",
        "      A list of (wiki_id, tf) tuples\n",
        "  Returns:\n",
        "  --------\n",
        "    list of tuples\n",
        "      A sorted posting list.\n",
        "  '''\n",
        "\n",
        "\n",
        "  sorted_pl = sorted(unsorted_pl, key=lambda x: x[0])\n",
        "\n",
        "  return sorted_pl\n",
        "\n",
        ""
      ],
      "metadata": {
        "id": "XKstpiUBeg4v"
      },
      "execution_count": 9,
      "outputs": []
    },
    {
      "cell_type": "code",
      "source": [
        "postings = word_counts.groupByKey().mapValues(reduce_word_counts)\n",
        "postings_TF = word_TF.groupByKey().mapValues(reduce_word_counts)\n",
        "\n",
        "# postings.take(10)"
      ],
      "metadata": {
        "id": "twadmG79e8Aa"
      },
      "execution_count": 10,
      "outputs": []
    },
    {
      "cell_type": "code",
      "source": [
        "postings_filtered = postings.filter(lambda x: len(x[1])>10)\n",
        "postings_TF_filtered = postings_TF.filter(lambda x: len(x[1])>10)"
      ],
      "metadata": {
        "id": "OD-hWkJxonzZ"
      },
      "execution_count": 11,
      "outputs": []
    },
    {
      "cell_type": "code",
      "source": [
        "def calculate_df(postings):\n",
        "  ''' Takes a posting list RDD and calculate the df for each token.\n",
        "  Parameters:\n",
        "  -----------\n",
        "    postings: RDD\n",
        "      An RDD where each element is a (token, posting_list) pair.\n",
        "  Returns:\n",
        "  --------\n",
        "    RDD\n",
        "      An RDD where each element is a (token, df) pair.\n",
        "  '''\n",
        "\n",
        "  return postings.map(lambda x: (x[0], len(x[1])))"
      ],
      "metadata": {
        "id": "1TIOW9ugmol_"
      },
      "execution_count": 12,
      "outputs": []
    },
    {
      "cell_type": "code",
      "source": [
        "w2df = calculate_df(postings_filtered)\n",
        "# w2df.take(1)\n",
        "w2df_dict = w2df.collectAsMap()"
      ],
      "metadata": {
        "id": "HjsQ048WoWG_"
      },
      "execution_count": 13,
      "outputs": []
    },
    {
      "cell_type": "code",
      "source": [
        "N = 1000;\n",
        "postings_TF_IDF_filtered = postings_TF_filtered.map(lambda x: (x[0], updated_value_function(x[0],x[1])))\n",
        "\n",
        "def updated_value_function(term, post):\n",
        "    return list(map(lambda x: (x[0], x[1]*math.log10(N/w2df_dict[term])), post))"
      ],
      "metadata": {
        "id": "k7mhss9auitU"
      },
      "execution_count": 14,
      "outputs": []
    },
    {
      "cell_type": "code",
      "source": [
        "postings_TF_IDF_filtered_dict = postings_TF_IDF_filtered.collectAsMap()\n",
        "print(postings_TF_IDF_filtered_dict[\"political\"])"
      ],
      "metadata": {
        "colab": {
          "base_uri": "https://localhost:8080/"
        },
        "id": "qmM77p7H2byP",
        "outputId": "1fb749b3-76f7-4ede-800b-adfde83e9df8"
      },
      "execution_count": 17,
      "outputs": [
        {
          "output_type": "stream",
          "name": "stdout",
          "text": [
            "[(12, 0.003344736074330496), (303, 0.0003245996872968506), (307, 0.0015856517205880612), (308, 0.0008703286418990512), (336, 0.00013827211988195576), (339, 0.0025156855503090498), (358, 0.001195733990438265), (359, 0.0004114825886728235), (569, 0.0025156855503090498), (594, 5.292921158817012e-05), (600, 0.0008226503475149868), (620, 0.0015468537857994985), (624, 0.00037019832123746314), (627, 0.00033253732088724363), (643, 0.0017511465866483515), (663, 0.0002370379197976384), (665, 0.0006968269631899467), (676, 0.00015919514424075923), (677, 0.00024888981578752035), (689, 0.0004691116946780488), (690, 0.0003631219196899993), (691, 0.0012649458872965738), (700, 0.00043215595024199673), (701, 0.0019672727954462687), (705, 0.0022974444534232647), (706, 0.0002921750011418717), (717, 0.0003367378653937012), (736, 0.00022081133711707718), (737, 0.0005847737513789455), (738, 0.0005242624356820235), (740, 0.0003073767879365603), (746, 0.0006974597847704254), (751, 0.00021668762680412897), (752, 0.0007979250495006217), (771, 0.0006139704846976694), (783, 0.00013634339388816737), (802, 0.00027990385392279274), (803, 0.00018269211670855594), (808, 7.230692698063805e-05), (825, 0.0004674800018269947), (841, 0.00019649195983225288), (842, 0.0006111428595313119), (846, 0.009745051397602006), (854, 0.00017203264067233405), (857, 0.0006977313460104399), (863, 0.0009271664307577647), (872, 0.00040894720987451994), (874, 0.0004395165571067262), (880, 5.99400158435772e-05), (881, 0.0009608614872225986), (888, 0.0002000007448292574), (905, 0.004880952029451761), (911, 0.00167477259221509), (930, 0.0007177596823778957), (931, 0.0001222656361385135), (933, 0.0020059776197800146), (951, 0.0009656075475546366), (954, 0.0011807643358248273), (974, 0.0001660803219342119), (981, 9.036846564145973e-05), (983, 0.0006732648742655528), (1008, 0.00015957316773554286), (1016, 0.00025016379809262164), (1017, 0.0006709242315399014), (1023, 0.0019163837357344825), (1028, 0.0012160440105102783), (1030, 0.002267493107021274), (1036, 0.0011687000045674867), (1051, 0.0002810256153168029), (1057, 0.0012923125050505863), (1058, 0.0007735280605770416), (1070, 0.0022446847686891183), (1078, 0.001389400058901192), (1087, 0.0003093222106450195), (1093, 0.004800017875902177), (1094, 0.0004304948767625272), (1096, 0.0005571005203119626), (1097, 0.0003554393402320952), (1098, 0.00017491524389166876), (1111, 0.0037333472368128048), (1129, 0.00019471278598371747), (1130, 0.0002293523899748481), (1141, 9.757727599619637e-05), (1148, 0.00015905384677545678), (1164, 0.00020582006206012403), (1167, 0.0007791333363783245), (1168, 0.0004203299469124659), (1169, 0.0021677500084719514), (1171, 0.000295385715440134), (1174, 0.00010404528780744029), (1175, 0.0005814008674488579), (1177, 0.0002480858339183405), (1182, 0.00011558847604838614), (1192, 0.0015186497234492766), (1193, 0.0025918939434361296), (1203, 0.00022631109328606353), (1214, 0.0002079430126744626), (1216, 0.00022359711719161676), (1217, 0.0002492359768665016), (1227, 0.0007636392075298919), (1235, 0.001536005720288697), (1239, 0.00028380731271006673), (1241, 0.0013963688366260881), (1252, 0.00018627928000729174), (1254, 0.00014757123307742077), (1256, 0.00017077573129003937), (1259, 0.0003670891103455404), (1261, 0.00020394613129781636), (1270, 0.0004480016684175366), (1273, 0.0019384687575758797), (1274, 0.00041417719730434815), (1285, 0.0004914095083190529), (1286, 0.0005811913536227502), (1288, 0.00019933333411236332), (1298, 0.0003921239986149117), (1305, 0.0004399361719321145), (1306, 0.00019549163712765232), (1316, 0.002128273959228202), (1324, 0.0026646939385429687), (1332, 0.0001926198502690949), (1334, 0.0001648580196568672), (1348, 0.00011997366706115687), (1363, 0.0005713092477163059), (1370, 0.0007520662188403506), (1376, 0.00077950991121466), (1395, 0.0005394902178635664), (1397, 0.00010801727990778459), (1409, 0.0028748770165831225), (1417, 0.0005250019551768007), (1438, 0.00030424561522413354), (1442, 0.0004538002268720123), (1461, 0.00022654951626676948), (1486, 0.00023252681751775257), (1490, 0.00017649441959981742), (1491, 0.00017208770873913056), (1494, 0.00026250097758840035), (1495, 0.0015368040600601568), (1499, 0.00038816029032566344), (1500, 0.0011738034980372136), (1513, 0.0009382233893560976), (1514, 0.0018025213817302395), (1519, 0.00017286238009679868), (1520, 0.0002473439163105792), (1527, 0.0003522948899744718), (1530, 0.00045644591789866185), (1537, 8.298888578281011e-05), (1541, 0.00020885858667484225), (1546, 0.0017990027956532424), (1550, 0.00045831372728136736), (1556, 0.0004552091465715867), (1557, 0.0005338649474687625), (1560, 0.0002293523899748481), (1566, 0.0009620077580096224), (1570, 0.0006241509312318621), (1571, 0.0019584772389837665), (1575, 0.0004452805097468613), (1576, 0.00015524169855646663), (1577, 0.003673057157212101), (1583, 0.00027220354536761716), (1592, 0.0006779344288789962), (1595, 0.0022493807619290537), (1613, 0.0005219436913602368), (1616, 0.0006369691968021848), (1617, 0.0010358420079018187), (1623, 0.0012914432643918612), (1624, 0.0016158356982373268), (1625, 0.0013373184131866764), (1627, 8.300169864150748e-05), (1640, 8.518491556029852e-05), (1644, 0.0007917555259220087), (1649, 0.0005912587320330426), (1655, 0.0010459182920253773), (1657, 0.0010802451482271479), (1659, 0.0009174095598993924), (1660, 0.0008060000031499909), (1661, 0.0007294464071927326), (1676, 0.0008567362583283568), (1677, 0.0012358666714966527), (1683, 0.002258831941601025), (1686, 0.0016144204267298616), (1687, 0.0006236682158944825), (1688, 0.0005307028648578913), (1710, 0.0002628860645970875), (1711, 0.0001841733477564385), (1715, 0.000730636045258282), (1719, 0.00017208770873913056), (1734, 0.0007636392075298919), (1737, 0.0010572310759115909), (1750, 0.0002468328751611772), (1752, 0.0007871185975125094), (1762, 0.00044725624134862223), (1767, 0.0004996301134768065), (1770, 9.975913937670142e-05), (1781, 0.0001853800007244979), (1787, 0.00016266323815462749), (1791, 0.00028489772236409323), (1806, 0.0012077551296850186), (1812, 0.001616038082468068), (1814, 0.000556639057880559), (1822, 0.0002644377777181721), (1826, 0.00028934445753554566), (1828, 0.0003999023075385896), (1837, 0.0012861291916292916), (1841, 0.00011211720586048882), (1842, 0.0009189777813693058), (1845, 0.00010410573239756854), (1854, 0.0002201482400086175), (1857, 0.0004967065002473458), (1859, 0.00014212875138163754), (1874, 0.0010298888929138772), (1880, 0.002535858500476622), (1881, 7.3958178855557e-05), (1921, 0.0005129790096384006), (1930, 0.0005995242973884511), (1934, 0.00040269812891463965), (1938, 0.0004598032860939479), (1942, 0.0001874810818137904), (1943, 0.002417670491868963), (1950, 0.0011526217661626812), (1955, 0.000242272195629132), (1965, 0.0002196984070703081), (1973, 0.0013250947982361154), (1990, 0.00031586486609932074), (1994, 0.002258831941601025), (1998, 0.00030050419346061704), (2006, 0.0007713084678637646), (2007, 0.00013010697049880058), (2009, 0.00017258491239198842), (2011, 8.970498950459601e-05), (2018, 0.0003272075484485964), (2030, 0.000903118818434863), (2042, 0.0008993007730027499), (2047, 0.0005743611133558162), (2053, 0.00030372994468985535), (2067, 0.00027220354536761716), (2070, 0.0009339854101824947), (2075, 0.0013430456869048207), (2076, 0.0002723414397674995), (2084, 0.0005296571449271368), (2085, 0.00016721679692100898), (2101, 0.0001634545460933548), (2104, 0.003495461652152431), (2108, 0.0005408470846086961), (2122, 0.000658503187286923), (2126, 0.0009093403283170567), (2130, 0.0007818528244634146), (2140, 7.647254652930924e-05), (2148, 0.0001068154186570721), (2151, 0.007264891920284378), (2152, 0.00022645408681594098), (2154, 0.0011526904154638227), (2162, 0.00012929341079871186), (2166, 0.0034351565629459676), (2167, 0.00038318032936638914), (2176, 0.0015066327127790547), (2178, 0.0001298241975612277), (2180, 0.00029313086265051467), (2185, 0.0004075830190303593), (2187, 0.001027134127055873), (2194, 0.000182982301600083), (2210, 0.00026250097758840035), (2216, 0.0003942086174893081), (2224, 0.00018570017343732086), (2226, 0.0007685518257341586), (2235, 0.0023272813943768134), (2236, 0.0005397610462861886), (2238, 0.0012709267189149973), (2241, 0.0008873411965827181), (2299, 0.0013440050052526099), (2303, 0.00018797272800735802), (2310, 0.0003428584197072984), (2314, 0.0005394902178635664), (2321, 0.00012963636414300552), (2326, 0.00020029880853243066), (2331, 0.00455594917034783), (2332, 0.00244921185467446), (2338, 0.0002485446149334461), (2345, 0.00034003921701520804), (2371, 0.0012671820909865503), (2376, 0.0025676513533184186), (2377, 0.0001220712992963315), (2384, 0.0006963756503899533), (2398, 0.0006477132555434264), (2406, 0.00036974002895532595), (2417, 0.00025624499623500663), (2418, 0.00018615027773581853), (2422, 0.0005707027623153332), (2425, 0.0008587891407364919), (2439, 0.0002531082872415461), (2447, 0.0001761474449872359)]\n"
          ]
        }
      ]
    },
    {
      "cell_type": "code",
      "source": [
        "NUM_BUCKETS = 124\n",
        "def token2bucket_id(token):\n",
        "  return int(_hash(token),16) % NUM_BUCKETS\n",
        "\n",
        "def partition_postings_and_write(postings):\n",
        "  ''' A function that partitions the posting lists into buckets, writes out\n",
        "  all posting lists in a bucket to disk, and returns the posting locations for\n",
        "  each bucket. Partitioning should be done through the use of `token2bucket`\n",
        "  above. Writing to disk should use the function  `write_a_posting_list`, a\n",
        "  static method implemented in inverted_index_colab.py under the InvertedIndex\n",
        "  class.\n",
        "  Parameters:\n",
        "  -----------\n",
        "    postings: RDD\n",
        "      An RDD where each item is a (w, posting_list) pair.\n",
        "  Returns:\n",
        "  --------\n",
        "    RDD\n",
        "      An RDD where each item is a posting locations dictionary for a bucket. The\n",
        "      posting locations maintain a list for each word of file locations and\n",
        "      offsets its posting list was written to. See `write_a_posting_list` for\n",
        "      more details.\n",
        "  '''\n",
        "\n",
        "  # Assign each token to a bucket\n",
        "  bucketed_postings = postings.map(lambda x: (token2bucket_id(x[0]), [(x[0], x[1])]))\n",
        "\n",
        "  # Group the postings by bucket\n",
        "  grouped_postings = bucketed_postings.reduceByKey(lambda x, y: x + y)\n",
        "\n",
        "  # Write out each bucket and collect posting locations\n",
        "  posting_locations = grouped_postings.map(lambda x: InvertedIndex.write_a_posting_list(x))\n",
        "\n",
        "  return posting_locations"
      ],
      "metadata": {
        "id": "Zyz2obcf9zeV"
      },
      "execution_count": 18,
      "outputs": []
    },
    {
      "cell_type": "code",
      "source": [
        "posting_locs_list = partition_postings_and_write(postings).collect()\n",
        "super_posting_locs = defaultdict(list)\n",
        "for posting_loc in posting_locs_list:\n",
        "  for k, v in posting_loc.items():\n",
        "    super_posting_locs[k].extend(v)\n",
        ""
      ],
      "metadata": {
        "id": "oIxjkwZF-9MM"
      },
      "execution_count": 19,
      "outputs": []
    },
    {
      "cell_type": "code",
      "source": [
        "# Create inverted index instance\n",
        "inverted = InvertedIndex()\n",
        "# Adding the posting locations dictionary to the inverted index\n",
        "inverted.posting_locs = super_posting_locs\n",
        "# Add the token - df dictionary to the inverted index\n",
        "inverted.df = w2df_dict\n",
        "# write the global stats out\n",
        "inverted.tfidf = postings_TF_IDF_filtered_dict;\n",
        "inverted.write_index('.', 'index')\n"
      ],
      "metadata": {
        "id": "nhflKYa8KFPE"
      },
      "execution_count": 21,
      "outputs": []
    },
    {
      "cell_type": "code",
      "source": [
        "inverted_index = InvertedIndex.read_index('.', 'index')\n",
        "\n",
        "print(inverted_index._posting_lists)"
      ],
      "metadata": {
        "colab": {
          "base_uri": "https://localhost:8080/",
          "height": 176
        },
        "id": "Qbm_iDw8Oaoe",
        "outputId": "682d6de1-551c-4f06-e867-a96fd0a46c7b"
      },
      "execution_count": 26,
      "outputs": [
        {
          "output_type": "error",
          "ename": "AttributeError",
          "evalue": "'InvertedIndex' object has no attribute '_posting_lists'",
          "traceback": [
            "\u001b[0;31m---------------------------------------------------------------------------\u001b[0m",
            "\u001b[0;31mAttributeError\u001b[0m                            Traceback (most recent call last)",
            "\u001b[0;32m<ipython-input-26-f07f7c4606e3>\u001b[0m in \u001b[0;36m<cell line: 3>\u001b[0;34m()\u001b[0m\n\u001b[1;32m      1\u001b[0m \u001b[0minverted_index\u001b[0m \u001b[0;34m=\u001b[0m \u001b[0mInvertedIndex\u001b[0m\u001b[0;34m.\u001b[0m\u001b[0mread_index\u001b[0m\u001b[0;34m(\u001b[0m\u001b[0;34m'.'\u001b[0m\u001b[0;34m,\u001b[0m \u001b[0;34m'index'\u001b[0m\u001b[0;34m)\u001b[0m\u001b[0;34m\u001b[0m\u001b[0;34m\u001b[0m\u001b[0m\n\u001b[1;32m      2\u001b[0m \u001b[0;34m\u001b[0m\u001b[0m\n\u001b[0;32m----> 3\u001b[0;31m \u001b[0mprint\u001b[0m\u001b[0;34m(\u001b[0m\u001b[0minverted_index\u001b[0m\u001b[0;34m.\u001b[0m\u001b[0m_posting_lists\u001b[0m\u001b[0;34m)\u001b[0m\u001b[0;34m\u001b[0m\u001b[0;34m\u001b[0m\u001b[0m\n\u001b[0m",
            "\u001b[0;31mAttributeError\u001b[0m: 'InvertedIndex' object has no attribute '_posting_lists'"
          ]
        }
      ]
    }
  ]
}