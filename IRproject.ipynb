{
  "nbformat": 4,
  "nbformat_minor": 0,
  "metadata": {
    "colab": {
      "provenance": []
    },
    "kernelspec": {
      "name": "python3",
      "display_name": "Python 3"
    },
    "language_info": {
      "name": "python"
    }
  },
  "cells": [
    {
      "cell_type": "code",
      "execution_count": 85,
      "metadata": {
        "colab": {
          "base_uri": "https://localhost:8080/"
        },
        "id": "BzB_nl4ZVpEb",
        "outputId": "85e3b7ed-0747-4429-df77-0c54a052d3ae"
      },
      "outputs": [
        {
          "output_type": "stream",
          "name": "stderr",
          "text": [
            "[nltk_data] Downloading package stopwords to /root/nltk_data...\n",
            "[nltk_data]   Package stopwords is already up-to-date!\n"
          ]
        }
      ],
      "source": [
        "import sys\n",
        "from collections import Counter, OrderedDict\n",
        "import itertools\n",
        "from itertools import islice, count, groupby\n",
        "import pandas as pd\n",
        "import os\n",
        "import re\n",
        "from operator import itemgetter\n",
        "import nltk\n",
        "from nltk.stem.porter import *\n",
        "from nltk.corpus import stopwords\n",
        "from time import time\n",
        "from timeit import timeit\n",
        "from pathlib import Path\n",
        "import pickle\n",
        "import pandas as pd\n",
        "import numpy as np\n",
        "from google.cloud import storage\n",
        "import math\n",
        "import hashlib\n",
        "\n",
        "def _hash(s):\n",
        "    return hashlib.blake2b(bytes(s, encoding='utf8'), digest_size=5).hexdigest()\n",
        "\n",
        "nltk.download('stopwords')\n",
        "\n",
        "from inverted_index_colab import *\n"
      ]
    },
    {
      "cell_type": "code",
      "source": [
        "# These will already be installed in the testing environment so disregard the\n",
        "# amount of time (~1 minute) it takes to install.\n",
        "!pip install -q pyspark\n",
        "!pip install -U -q PyDrive\n",
        "!apt install openjdk-8-jdk-headless -qq\n",
        "!pip install -q graphframes\n",
        "import os\n",
        "os.environ[\"JAVA_HOME\"] = \"/usr/lib/jvm/java-8-openjdk-amd64\"\n",
        "graphframes_jar = 'https://repos.spark-packages.org/graphframes/graphframes/0.8.2-spark3.2-s_2.12/graphframes-0.8.2-spark3.2-s_2.12.jar'\n",
        "spark_jars = '/usr/local/lib/python3.7/dist-packages/pyspark/jars'\n",
        "!wget -N -P $spark_jars $graphframes_jar\n",
        "import pyspark\n",
        "from pyspark.sql import *\n",
        "from pyspark.sql.functions import *\n",
        "from pyspark import SparkContext, SparkConf\n",
        "from pyspark.sql import SQLContext\n",
        "from pyspark.ml.feature import Tokenizer, RegexTokenizer\n",
        "from graphframes import *"
      ],
      "metadata": {
        "id": "0YsZnKD4V_KX",
        "colab": {
          "base_uri": "https://localhost:8080/"
        },
        "outputId": "e717995f-3f09-42b3-d1c1-820b8b12a86a"
      },
      "execution_count": 2,
      "outputs": [
        {
          "output_type": "stream",
          "name": "stdout",
          "text": [
            "\u001b[2K     \u001b[90m━━━━━━━━━━━━━━━━━━━━━━━━━━━━━━━━━━━━━━━━\u001b[0m \u001b[32m316.9/316.9 MB\u001b[0m \u001b[31m3.9 MB/s\u001b[0m eta \u001b[36m0:00:00\u001b[0m\n",
            "\u001b[?25h  Preparing metadata (setup.py) ... \u001b[?25l\u001b[?25hdone\n",
            "  Building wheel for pyspark (setup.py) ... \u001b[?25l\u001b[?25hdone\n",
            "The following additional packages will be installed:\n",
            "  libxtst6 openjdk-8-jre-headless\n",
            "Suggested packages:\n",
            "  openjdk-8-demo openjdk-8-source libnss-mdns fonts-dejavu-extra fonts-nanum fonts-ipafont-gothic\n",
            "  fonts-ipafont-mincho fonts-wqy-microhei fonts-wqy-zenhei fonts-indic\n",
            "The following NEW packages will be installed:\n",
            "  libxtst6 openjdk-8-jdk-headless openjdk-8-jre-headless\n",
            "0 upgraded, 3 newly installed, 0 to remove and 35 not upgraded.\n",
            "Need to get 39.7 MB of archives.\n",
            "After this operation, 144 MB of additional disk space will be used.\n",
            "Selecting previously unselected package libxtst6:amd64.\n",
            "(Reading database ... 121749 files and directories currently installed.)\n",
            "Preparing to unpack .../libxtst6_2%3a1.2.3-1build4_amd64.deb ...\n",
            "Unpacking libxtst6:amd64 (2:1.2.3-1build4) ...\n",
            "Selecting previously unselected package openjdk-8-jre-headless:amd64.\n",
            "Preparing to unpack .../openjdk-8-jre-headless_8u392-ga-1~22.04_amd64.deb ...\n",
            "Unpacking openjdk-8-jre-headless:amd64 (8u392-ga-1~22.04) ...\n",
            "Selecting previously unselected package openjdk-8-jdk-headless:amd64.\n",
            "Preparing to unpack .../openjdk-8-jdk-headless_8u392-ga-1~22.04_amd64.deb ...\n",
            "Unpacking openjdk-8-jdk-headless:amd64 (8u392-ga-1~22.04) ...\n",
            "Setting up libxtst6:amd64 (2:1.2.3-1build4) ...\n",
            "Setting up openjdk-8-jre-headless:amd64 (8u392-ga-1~22.04) ...\n",
            "update-alternatives: using /usr/lib/jvm/java-8-openjdk-amd64/jre/bin/orbd to provide /usr/bin/orbd (orbd) in auto mode\n",
            "update-alternatives: using /usr/lib/jvm/java-8-openjdk-amd64/jre/bin/servertool to provide /usr/bin/servertool (servertool) in auto mode\n",
            "update-alternatives: using /usr/lib/jvm/java-8-openjdk-amd64/jre/bin/tnameserv to provide /usr/bin/tnameserv (tnameserv) in auto mode\n",
            "Setting up openjdk-8-jdk-headless:amd64 (8u392-ga-1~22.04) ...\n",
            "update-alternatives: using /usr/lib/jvm/java-8-openjdk-amd64/bin/clhsdb to provide /usr/bin/clhsdb (clhsdb) in auto mode\n",
            "update-alternatives: using /usr/lib/jvm/java-8-openjdk-amd64/bin/extcheck to provide /usr/bin/extcheck (extcheck) in auto mode\n",
            "update-alternatives: using /usr/lib/jvm/java-8-openjdk-amd64/bin/hsdb to provide /usr/bin/hsdb (hsdb) in auto mode\n",
            "update-alternatives: using /usr/lib/jvm/java-8-openjdk-amd64/bin/idlj to provide /usr/bin/idlj (idlj) in auto mode\n",
            "update-alternatives: using /usr/lib/jvm/java-8-openjdk-amd64/bin/javah to provide /usr/bin/javah (javah) in auto mode\n",
            "update-alternatives: using /usr/lib/jvm/java-8-openjdk-amd64/bin/jhat to provide /usr/bin/jhat (jhat) in auto mode\n",
            "update-alternatives: using /usr/lib/jvm/java-8-openjdk-amd64/bin/jsadebugd to provide /usr/bin/jsadebugd (jsadebugd) in auto mode\n",
            "update-alternatives: using /usr/lib/jvm/java-8-openjdk-amd64/bin/native2ascii to provide /usr/bin/native2ascii (native2ascii) in auto mode\n",
            "update-alternatives: using /usr/lib/jvm/java-8-openjdk-amd64/bin/schemagen to provide /usr/bin/schemagen (schemagen) in auto mode\n",
            "update-alternatives: using /usr/lib/jvm/java-8-openjdk-amd64/bin/wsgen to provide /usr/bin/wsgen (wsgen) in auto mode\n",
            "update-alternatives: using /usr/lib/jvm/java-8-openjdk-amd64/bin/wsimport to provide /usr/bin/wsimport (wsimport) in auto mode\n",
            "update-alternatives: using /usr/lib/jvm/java-8-openjdk-amd64/bin/xjc to provide /usr/bin/xjc (xjc) in auto mode\n",
            "Processing triggers for libc-bin (2.35-0ubuntu3.4) ...\n",
            "/sbin/ldconfig.real: /usr/local/lib/libtbbmalloc_proxy.so.2 is not a symbolic link\n",
            "\n",
            "/sbin/ldconfig.real: /usr/local/lib/libtbbbind_2_0.so.3 is not a symbolic link\n",
            "\n",
            "/sbin/ldconfig.real: /usr/local/lib/libtbbbind_2_5.so.3 is not a symbolic link\n",
            "\n",
            "/sbin/ldconfig.real: /usr/local/lib/libtbbmalloc.so.2 is not a symbolic link\n",
            "\n",
            "/sbin/ldconfig.real: /usr/local/lib/libtbbbind.so.3 is not a symbolic link\n",
            "\n",
            "/sbin/ldconfig.real: /usr/local/lib/libtbb.so.12 is not a symbolic link\n",
            "\n",
            "\u001b[2K     \u001b[90m━━━━━━━━━━━━━━━━━━━━━━━━━━━━━━━━━━━━━━━━\u001b[0m \u001b[32m154.7/154.7 kB\u001b[0m \u001b[31m2.0 MB/s\u001b[0m eta \u001b[36m0:00:00\u001b[0m\n",
            "\u001b[?25h--2024-02-22 15:48:32--  https://repos.spark-packages.org/graphframes/graphframes/0.8.2-spark3.2-s_2.12/graphframes-0.8.2-spark3.2-s_2.12.jar\n",
            "Resolving repos.spark-packages.org (repos.spark-packages.org)... 52.84.125.113, 52.84.125.73, 52.84.125.114, ...\n",
            "Connecting to repos.spark-packages.org (repos.spark-packages.org)|52.84.125.113|:443... connected.\n",
            "HTTP request sent, awaiting response... 200 OK\n",
            "Length: 247880 (242K) [binary/octet-stream]\n",
            "Saving to: ‘/usr/local/lib/python3.7/dist-packages/pyspark/jars/graphframes-0.8.2-spark3.2-s_2.12.jar’\n",
            "\n",
            "graphframes-0.8.2-s 100%[===================>] 242.07K  --.-KB/s    in 0.03s   \n",
            "\n",
            "2024-02-22 15:48:32 (7.06 MB/s) - ‘/usr/local/lib/python3.7/dist-packages/pyspark/jars/graphframes-0.8.2-spark3.2-s_2.12.jar’ saved [247880/247880]\n",
            "\n"
          ]
        }
      ]
    },
    {
      "cell_type": "code",
      "source": [
        "# Initializing spark context\n",
        "# create a spark context and session\n",
        "conf = SparkConf().set(\"spark.ui.port\", \"4050\")\n",
        "conf.set(\"spark.jars.packages\", \"graphframes:graphframes:0.8.2-spark3.2-s_2.12\")\n",
        "sc = pyspark.SparkContext(conf=conf)\n",
        "sc.addPyFile(str(Path(spark_jars) / Path(graphframes_jar).name))\n",
        "spark = SparkSession.builder.getOrCreate()"
      ],
      "metadata": {
        "id": "8KS5kAHyWPJa"
      },
      "execution_count": 3,
      "outputs": []
    },
    {
      "cell_type": "code",
      "source": [
        "# Authenticate your user\n",
        "# The authentication should be done with the email connected to your GCP account\n",
        "from google.colab import auth\n",
        "import signal\n",
        "\n",
        "AUTH_TIMEOUT = 30000000\n",
        "\n",
        "def handler(signum, frame):\n",
        "  raise Exception(\"Authentication timeout!\")\n",
        "\n",
        "signal.signal(signal.SIGALRM, handler)\n",
        "signal.alarm(AUTH_TIMEOUT)\n",
        "\n",
        "try:\n",
        "   auth.authenticate_user()\n",
        "except:\n",
        "   pass"
      ],
      "metadata": {
        "id": "CUsn6gkFWawY"
      },
      "execution_count": 4,
      "outputs": []
    },
    {
      "cell_type": "code",
      "source": [
        "# Copy one wikidumps files\n",
        "import os\n",
        "from pathlib import Path\n",
        "from google.colab import auth\n",
        "## RENAME the project_id to yours project id from the project you created in GCP\n",
        "project_id = 'informationretrievalex3'\n",
        "!gcloud config set project {project_id}\n",
        "\n",
        "data_bucket_name = 'wikidata20210801_preprocessed'\n",
        "try:\n",
        "    if os.environ[\"wikidata_preprocessed\"] is not None:\n",
        "        pass\n",
        "except:\n",
        "      !mkdir wikidumps\n",
        "      !gsutil -u {project_id} cp gs://{data_bucket_name}/multistream1_preprocessed.parquet \"wikidumps/\""
      ],
      "metadata": {
        "id": "-1MvoXl3W3GG",
        "colab": {
          "base_uri": "https://localhost:8080/"
        },
        "outputId": "c6f8039a-8802-4176-dad0-0f39bf2979e5"
      },
      "execution_count": 5,
      "outputs": [
        {
          "output_type": "stream",
          "name": "stdout",
          "text": [
            "Updated property [core/project].\n",
            "Copying gs://wikidata20210801_preprocessed/multistream1_preprocessed.parquet...\n",
            "==> NOTE: You are downloading one or more large file(s), which would\n",
            "run significantly faster if you enabled sliced object downloads. This\n",
            "feature is enabled by default but requires that compiled crcmod be\n",
            "installed (see \"gsutil help crcmod\").\n",
            "\n",
            "/ [1 files][316.7 MiB/316.7 MiB]                                                \n",
            "Operation completed over 1 objects/316.7 MiB.                                    \n"
          ]
        }
      ]
    },
    {
      "cell_type": "code",
      "source": [
        "from pathlib import Path\n",
        "import os\n",
        "\n",
        "try:\n",
        "    if os.environ[\"wikidata_preprocessed\"] is not None:\n",
        "      path = os.environ[\"wikidata_preprocessed\"]+\"/wikidumps/*\"\n",
        "except:\n",
        "      path = \"wikidumps/*\"\n",
        "\n",
        "parquetFile = spark.read.parquet(path)\n",
        "# take the 'text' and 'id' or the first 1000 rows and create an RDD from it\n",
        "doc_text_pairs = parquetFile.limit(1000).select(\"text\", \"id\").rdd\n"
      ],
      "metadata": {
        "id": "t_jiEwE7XB1W",
        "colab": {
          "base_uri": "https://localhost:8080/"
        },
        "outputId": "4af8ec23-9d97-43d0-bd98-f70905a55081"
      },
      "execution_count": 6,
      "outputs": [
        {
          "output_type": "execute_result",
          "data": {
            "text/plain": [
              "[Row(text='\\'\\'\\'Anarchism\\'\\'\\' is a political philosophy and movement that is sceptical of authority and rejects all involuntary, coercive forms of hierarchy. Anarchism calls for the abolition of the state, which it holds to be undesirable, unnecessary, and harmful. As a historically far-left movement, it is usually described alongside libertarian Marxism as the libertarian wing (libertarian socialism) of the socialist movement and has a strong historical association with anti-capitalism and socialism.\\n\\nThe history of anarchy goes back to prehistory, when humans arguably lived in anarchic societies long before the establishment of formal states, realms or empires. With the rise of organised hierarchical bodies, scepticism toward authority also rose, but it was not until the 19th century that a self-conscious political movement emerged. During the latter half of the 19th and the first decades of the 20th century, the anarchist movement flourished in most parts of the world and had a significant role in workers\\' struggles for emancipation. Various anarchist schools of thought formed during this period. Anarchists have taken part in several revolutions, most notably in the Spanish Civil War, whose end marked the end of the classical era of anarchism. In the last decades of the 20th and into the 21st century, the anarchist movement has been resurgent once more.\\n\\nAnarchism employs a diversity of tactics in order to meet its ideal ends which can be broadly separated into revolutionary and evolutionary tactics. There is significant overlap between the two which are merely descriptive. Revolutionary tactics aim to bring down authority and state, having taken a violent turn in the past. Evolutionary tactics aim to prefigure what an anarchist society would be like. Anarchist thought, criticism and praxis have played a part in diverse areas of human society. Criticisms of anarchism include claims that it is internally inconsistent, violent, or utopian.\\n\\n Etymology, terminology and definition \\n\\nthumb|Wilhelm Weitling, an example of a writer who added to anarchist theory without using the exact term\\nThe etymological origin of \\'\\'anarchism\\'\\' is from the Ancient Greek \\'\\'anarkhia\\'\\', meaning \"without a ruler\", composed of the prefix \\'\\'an-\\'\\' (i.e. \"without\") and the word \\'\\'arkhos\\'\\' (i.e. \"leader\" or \"ruler\"). The suffix \\'\\'-ism\\'\\' denotes the ideological current that favours anarchy. \\'\\'Anarchism\\'\\' appears in English from 1642 as \\'\\'anarchisme\\'\\' and \\'\\'anarchy\\'\\' from 1539; early English usages emphasised a sense of disorder. Various factions within the French Revolution labelled their opponents as \\'\\'anarchists\\'\\', although few such accused shared many views with later anarchists. Many revolutionaries of the 19th century such as William Godwin (1756–1836) and Wilhelm Weitling (1808–1871) would contribute to the anarchist doctrines of the next generation, but they did not use \\'\\'anarchist\\'\\' or \\'\\'anarchism\\'\\' in describing themselves or their beliefs.\\n\\nThe first political philosopher to call himself an \\'\\'anarchist\\'\\' () was Pierre-Joseph Proudhon (1809–1865), marking the formal birth of anarchism in the mid-19th century. Since the 1890s and beginning in France, \\'\\'libertarianism\\'\\' has often been used as a synonym for anarchism and its use as a synonym is still common outside the United States. On the other hand, some use \\'\\'libertarianism\\'\\' to refer to individualistic free-market philosophy only, referring to free-market anarchism as \\'\\'libertarian anarchism\\'\\'.\\n\\nWhile the term \\'\\'libertarian\\'\\' has been largely synonymous with anarchism, its meaning has more recently diluted with wider adoption from ideologically disparate groups, including both the New Left and libertarian Marxists (who do not associate themselves with authoritarian socialists or a vanguard party) as well as extreme liberals (primarily concerned with civil liberties). Additionally, some anarchists use \\'\\'libertarian socialist\\'\\' to avoid anarchism\\'s negative connotations and emphasise its connections with socialism. Matthew S. Adams and Carl Levy write that \\'\\'anarchism\\'\\' is used to \"describe the anti-authoritarian wing of the socialist movement.\" Noam Chomsky describes anarchism, alongside libertarian Marxism, as \"the libertarian wing of socialism.\" Daniel Guérin wrote:\\n[A]narchism is really a synonym for socialism. The anarchist is primarily a socialist whose aim is to abolish the exploitation of man by man. Anarchism is only one of the streams of socialist thought, that stream whose main components are concern for liberty and haste to abolish the State.\\n\\nWhile opposition to the state is central to anarchist thought, defining anarchism is not an easy task as there is a lot of discussion among scholars and anarchists on the matter and various currents perceive anarchism slightly differently. Hence, it might be true to say that anarchism is a cluster of political philosophies opposing authority and hierarchical organisation (including capitalism, nationalism, the state and all associated institutions) in the conduct of all human relations in favour of a society based on decentralisation, freedom and voluntary association. However, this definition has the same shortcomings as the definition based on anti-authoritarianism (which is an \\'\\'a posteriori\\'\\' conclusion), anti-statism (anarchism is much more than that) and etymology (which is simply a negation of a ruler). Nonetheless, major elements of the definition of anarchism include the will for a non-coercive society, the rejection of the state apparatus, the belief that human nature allows humans to exist in or progress toward such a non-coercive society and a suggestion on how to act to pursue the ideal of anarchy.\\n\\nHerbert L. Osgood claimed that anarchism is \"the extreme antithesis\" of authoritarian communism and state socialism. Peter Marshall states that \"[i]n general anarchism is closer to socialism than liberalism. [...] Anarchism finds itself largely in the socialist camp, but it also has outriders in liberalism. It cannot be reduced to socialism, and is best seen as a separate and distinctive doctrine.\" According to Jeremy Jennings, \"[i]t is hard not to conclude that these ideas\", referring to anarcho-capitalism, \"are described as anarchist only on the basis of a misunderstanding of what anarchism is.\" Jennings adds that \"anarchism does not stand for the untrammelled freedom of the individual (as the \\'anarcho-capitalists\\' appear to believe) but, as we have already seen, for the extension of individuality and community.\" Nicolas Walter wrote that \"anarchism does derive from liberalism and socialism both historically and ideologically. [...] In a sense, anarchists always remain liberals and socialists, and whenever they reject what is good in either they betray anarchism itself. [...] We are liberals but more so, and socialists but more so.\" Michael Newman includes anarchism as one of many socialist traditions, especially the more socialist-aligned tradition following Proudhon and Mikhail Bakunin. Brian Morriss argues that it is \"conceptually and historically misleading\" to \"create a dichotomy between socialism and anarchism.\"\\n\\n History \\n\\n Pre-modern era \\nthumb|upright=.7|Zeno of Citium (c. 334 – c. 262 BC), whose \\'\\'Republic\\'\\' inspired Peter Kropotkin\\nDuring the prehistoric era of mankind, an established authority did not exist. It was after the creation of towns and cities that institutions of authority were established and anarchistic ideas espoused as a reaction. The most notable precursors to anarchism in the ancient world were in China and Greece. In China, philosophical anarchism (i.e. the discussion on the legitimacy of the state) was delineated by Taoist philosophers Zhuang Zhou and Laozi. Alongside Stoicism, Taoism has been said to have had \"significant anticipations\" of anarchism.\\n\\nAnarchic attitudes were also articulated by tragedians and philosophers in Greece. Aeschylus and Sophocles used the myth of Antigone to illustrate the conflict between rules set by the state and personal autonomy. Socrates questioned Athenian authorities constantly and insisted on the right of individual freedom of conscience. Cynics dismissed human law (\\'\\'nomos\\'\\') and associated authorities while trying to live according to nature (\\'\\'physis\\'\\'). Stoics were supportive of a society based on unofficial and friendly relations among its citizens without the presence of a state.\\n\\nDuring the Middle Ages, there was no anarchistic activity except some ascetic religious movements in the Muslim world or in Christian Europe. This kind of tradition later gave birth to religious anarchism. In the Sasanian Empire, Mazdak called for an egalitarian society and the abolition of monarchy, only to be soon executed by Emperor Kavad I.\\n\\nIn Basra, religious sects preached against the state. In Europe, various sects developed anti-state and libertarian tendencies. Libertarian ideas further emerged during the Renaissance with the spread of humanism, rationalism and reasoning through Europe. Novelists fictionalised ideal societies that were based on voluntarism rather than coercion. The Age of Enlightenment further pushed towards anarchism with the optimism for social progress.\\n\\n Modern era \\nDuring the French Revolution, partisan groups such as the Enragés and the  saw a turning point in the fermentation of anti-state and federalist sentiments. The first anarchist currents developed throughout the 18th century as William Godwin espoused philosophical anarchism in England, morally delegitimising the state, Max Stirner\\'s thinking paved the way to individualism and Pierre-Joseph Proudhon\\'s theory of mutualism found fertile soil in France. By the late 1870s, various anarchist schools of thought had become well-defined and a wave of then unprecedented globalization occurred from 1880 to 1914. This era of classical anarchism lasted until the end of the Spanish Civil War and is considered the golden age of anarchism.\\n\\nthumb|upright|Mikhail Bakunin, who opposed the Marxist aim of dictatorship of the proletariat and allied himself with the federalists in the First International before his expulsion by the Marxists\\nDrawing from mutualism, Mikhail Bakunin founded collectivist anarchism and entered the International Workingmen\\'s Association, a class worker union later known as the First International that formed in 1864 to unite diverse revolutionary currents. The International became a significant political force, with Karl Marx being a leading figure and a member of its General Council. Bakunin\\'s faction (the Jura Federation) and Proudhon\\'s followers (the mutualists) opposed state socialism, advocating political abstentionism and small property holdings. After bitter disputes, the Bakuninists were expelled from the International by the Marxists at the 1872 Hague Congress. Anarchists were treated similarly in the Second International, being ultimately expelled in 1896. Bakunin famously predicted that if revolutionaries gained power by Marx\\'s terms, they would end up the new tyrants of workers. In response to their expulsion from the First International, anarchists formed the St. Imier International. Under the influence of Peter Kropotkin, a Russian philosopher and scientist, anarcho-communism overlapped with collectivism. Anarcho-communists, who drew inspiration from the 1871 Paris Commune, advocated for free federation and for the distribution of goods according to one\\'s needs.\\n\\nAt the turn of the century, anarchism had spread all over the world. It was a notable feature of the international syndicalism movement. In China, small groups of students imported the humanistic pro-science version of anarcho-communism. Tokyo was a hotspot for rebellious youth from countries of the far east, travelling to the Japanese capital to study. In Latin America, Argentina was a stronghold for anarcho-syndicalism, where it became the most prominent left-wing ideology. During this time, a minority of anarchists adopted tactics of revolutionary political violence. This strategy became known as propaganda of the deed. The dismemberment of the French socialist movement into many groups and the execution and exile of many Communards to penal colonies following the suppression of the Paris Commune favoured individualist political expression and acts. Even though many anarchists distanced themselves from these terrorist acts, infamy came upon the movement and attempts were made to exclude them from American immigration, including the Immigration Act of 1903, also called the Anarchist Exclusion Act. Illegalism was another strategy which some anarchists adopted during this period.\\n\\nthumb|left|Nestor Makhno with members of the anarchist Revolutionary Insurrectionary Army of Ukraine\\nDespite concerns, anarchists enthusiastically participated in the Russian Revolution in opposition to the White movement. However, they met harsh suppression after the Bolshevik government was stabilized. Several anarchists from Petrograd and Moscow fled to Ukraine, notably leading to the Kronstadt rebellion and Nestor Makhno\\'s struggle in the Free Territory. With the anarchists being crushed in Russia, two new antithetical currents emerged, namely platformism and synthesis anarchism. The former sought to create a coherent group that would push for revolution while the latter were against anything that would resemble a political party. Seeing the victories of the Bolsheviks in the October Revolution and the resulting Russian Civil War, many workers and activists turned to communist parties which grew at the expense of anarchism and other socialist movements. In France and the United States, members of major syndicalist movements such as the General Confederation of Labour and the Industrial Workers of the World left their organisations and joined the Communist International.\\n\\nIn the Spanish Civil War of 1936, anarchists and syndicalists (CNT and FAI) once again allied themselves with various currents of leftists. A long tradition of Spanish anarchism led to anarchists playing a pivotal role in the war. In response to the army rebellion, an anarchist-inspired movement of peasants and workers, supported by armed militias, took control of Barcelona and of large areas of rural Spain, where they collectivised the land. The Soviet Union provided some limited assistance at the beginning of the war, but the result was a bitter fight among communists and anarchists at a series of events named May Days as Joseph Stalin tried to seize control of the Republicans.\\n\\n Post-war era \\nthumb|Rojava\\'s support efforts for workers to form cooperatives is exemplified in this sewing cooperative.\\nAt the end of World War II, the anarchist movement was severely weakened. However, the 1960s witnessed a revival of anarchism, likely caused by a perceived failure of Marxism–Leninism and tensions built by the Cold War. During this time, anarchism found a presence in other movements critical towards both capitalism and the state such as the anti-nuclear, environmental and peace movements, the counterculture of the 1960s and the New Left. It also saw a transition from its previous revolutionary nature to provocative anti-capitalist reformism. Anarchism became associated with punk subculture as exemplified by bands such as Crass and the Sex Pistols. The established feminist tendencies of anarcha-feminism returned with vigour during the second wave of feminism. Black anarchism began to take form at this time and influenced anarchism\\'s move from a Eurocentric demographic. This coincided with its failure to gain traction in Northern Europe and its unprecedented height in Latin America.\\n\\nAround the turn of the 21st century, anarchism grew in popularity and influence within anti-capitalist, anti-war and anti-globalisation movements. Anarchists became known for their involvement in protests against the World Trade Organization (WTO), the Group of Eight and the World Economic Forum. During the protests, \\'\\'ad hoc\\'\\' leaderless anonymous cadres known as black blocs engaged in rioting, property destruction and violent confrontations with the police. Other organisational tactics pioneered in this time include affinity groups, security culture and the use of decentralised technologies such as the Internet. A significant event of this period was the confrontations at the 1999 Seattle WTO conference. Anarchist ideas have been influential in the development of the Zapatistas in Mexico and the Democratic Federation of Northern Syria, more commonly known as Rojava, a \\'\\'de facto\\'\\' autonomous region in northern Syria.\\n\\n Thought \\n\\nAnarchist schools of thought have been generally grouped into two main historical traditions, social anarchism and individualist anarchism, owing to their different origins, values and evolution. The individualist current emphasises negative liberty in opposing restraints upon the free individual while the social current emphasises positive liberty in aiming to achieve the free potential of society through equality and social ownership. In a chronological sense, anarchism can be segmented by the classical currents of the late 19th century and the post-classical currents (anarcha-feminism, green anarchism and post-anarchism) developed thereafter.\\n\\nBeyond the specific factions of anarchist movements which constitute political anarchism lies philosophical anarchism which holds that the state lacks moral legitimacy, without necessarily accepting the imperative of revolution to eliminate it. A component especially of individualist anarchism, philosophical anarchism may tolerate the existence of a minimal state, but it argues that citizens have no moral obligation to obey government when it conflicts with individual autonomy. Anarchism pays significant attention to moral arguments since ethics have a central role in anarchist philosophy. Anarchism\\'s emphasis on anti-capitalism, egalitarianism and for the extension of community and individuality sets it apart from anarcho-capitalism and other types of economic libertarianism.\\n\\nAnarchism is usually placed on the far-left of the political spectrum. Much of its economics and legal philosophy reflect anti-authoritarian, anti-statist, libertarian and radical interpretations of left-wing and socialist politics such as collectivism, communism, individualism, mutualism and syndicalism, among other libertarian socialist economic theories. As anarchism does not offer a fixed body of doctrine from a single particular worldview, many anarchist types and traditions exist and varieties of anarchy diverge widely. One reaction against sectarianism within the anarchist milieu was anarchism without adjectives, a call for toleration and unity among anarchists first adopted by Fernando Tarrida del Mármol in 1889 in response to the bitter debates of anarchist theory at the time. Belief in political nihilism has been espoused by anarchists. Despite separation, the various anarchist schools of thought are not seen as distinct entities, but rather as tendencies that intermingle and are connected through a set of uniform principles such as individual and local autonomy, mutual aid, network organisation, communal democracy, justified authority and decentralisation.\\n\\n Classical \\nthumb|upright|Pierre-Joseph Proudhon, the primary proponent of mutualism, who influenced many future individualist anarchist and social anarchist thinkers\\nInceptive currents among classical anarchist currents were mutualism and individualism. They were followed by the major currents of social anarchism (collectivist, communist and syndicalist). They differ on organisational and economic aspects of their ideal society.\\n\\nMutualism is an 18th-century economic theory that was developed into anarchist theory by Pierre-Joseph Proudhon. Its aims include reciprocity, free association, voluntary contract, federation and monetary reform of both credit and currency that would be regulated by a bank of the people. Mutualism has been retrospectively characterised as ideologically situated between individualist and collectivist forms of anarchism. In \\'\\'What Is Property?\\'\\' (1840), Proudhon first characterised his goal as a \"third form of society, the synthesis of communism and property.\" Collectivist anarchism is a revolutionary socialist form of anarchism commonly associated with Mikhail Bakunin. Collectivist anarchists advocate collective ownership of the means of production which is theorised to be achieved through violent revolution and that workers be paid according to time worked, rather than goods being distributed according to need as in communism. Collectivist anarchism arose alongside Marxism, but it rejected the dictatorship of the proletariat despite the stated Marxist goal of a collectivist stateless society.\\n\\nAnarcho-communism is a theory of anarchism that advocates a communist society with common ownership of the means of production, direct democracy and a horizontal network of voluntary associations, workers\\' councils and worker cooperatives, with production and consumption based on the guiding principle \"From each according to his ability, to each according to his need.\" Anarcho-communism developed from radical socialist currents after the French Revolution, but it was first formulated as such in the Italian section of the First International. It was later expanded upon in the theoretical work of Peter Kropotkin, whose specific style would go onto become the dominating view of anarchists by the late 19th century. Anarcho-syndicalism is a branch of anarchism that views labour syndicates as a potential force for revolutionary social change, replacing capitalism and the state with a new society democratically self-managed by workers. The basic principles of anarcho-syndicalism are direct action, workers\\' solidarity and workers\\' self-management.\\n\\nIndividualist anarchism is a set of several traditions of thought within the anarchist movement that emphasise the individual and their will over any kinds of external determinants. Early influences on individualist forms of anarchism include William Godwin, Max Stirner and Henry David Thoreau. Through many countries, individualist anarchism attracted a small yet diverse following of Bohemian artists and intellectuals as well as young anarchist outlaws in what became known as illegalism and individual reclamation.\\n\\n Post-classical and contemporary \\n\\nthumb|Lawrence Jarach (left) and John Zerzan (right), two prominent contemporary anarchist authors, with Zerzan being a prominent voice within anarcho-primitivism and Jarach a noted advocate of post-left anarchy\\nAnarchist principles undergird contemporary radical social movements of the left. Interest in the anarchist movement developed alongside momentum in the anti-globalisation movement, whose leading activist networks were anarchist in orientation. As the movement shaped 21st century radicalism, wider embrace of anarchist principles signaled a revival of interest. Anarchism has continued to generate many philosophies and movements, at times eclectic, drawing upon various sources and syncretic, combining disparate concepts to create new philosophical approaches. The anti-capitalist tradition of classical anarchism has remained prominent within contemporary currents.\\n\\nContemporary news coverage which emphasizes black bloc demonstrations has reinforced anarchism\\'s historical association with chaos and violence. However, its publicity has also led more scholars in fields such as anthropology and history to engage with the anarchist movement, although contemporary anarchism favours actions over academic theory. Various anarchist groups, tendencies and schools of thought exist today, making it difficult to describe the contemporary anarchist movement. While theorists and activists have established \"relatively stable constellations of anarchist principles\", there is no consensus on which principles are core and commentators describe multiple \"anarchisms\" (rather than a singular \"anarchism\") in which common principles are shared between schools of anarchism while each group prioritizes those principles differently. Gender equality can be a common principle, although it ranks as a higher priority to anarcha-feminists than anarcho-communists.\\n\\nAnarchists are generally committed against coercive authority in all forms, namely \"all centralized and hierarchical forms of government (e.g., monarchy, representative democracy, state socialism, etc.), economic class systems (e.g., capitalism, Bolshevism, feudalism, slavery, etc.), autocratic religions (e.g., fundamentalist Islam, Roman Catholicism, etc.), patriarchy, heterosexism, white supremacy, and imperialism.\" However, anarchist schools disagree on the methods by which these forms should be opposed. The principle of equal liberty is closer to anarchist political ethics in that it transcends both the liberal and socialist traditions. This entails that liberty and equality cannot be implemented within the state, resulting in the questioning of all forms of domination and hierarchy.\\n\\n Tactics \\nAnarchists\\' tactics take various forms, but in general, they serve two major goals, namely to first oppose the Establishment and secondly to promote anarchist ethics and reflect an anarchist vision of society, illustrating the unity of means and ends. A broad categorisation can be made between aims to destroy oppressive states and institutions by revolutionary means on one hand and aims to change society through evolutionary means on the other. Evolutionary tactics embrace nonviolence, reject violence and take a gradual approach to anarchist aims, although there is significant overlap between the two.\\n\\nAnarchist tactics have shifted during the course of the last century. Anarchists during the early 20th century focused more on strikes and militancy while contemporary anarchists use a broader array of approaches.\\n\\n Classical era tactics \\nthumb|The relationship between anarchism and violence is a controversial subject among anarchists as shown by anarchist Leon Czolgosz assassinating William McKinley.\\nDuring the classical era, anarchists had a militant tendency. Not only did they confront state armed forces, as in Spain and Ukraine, but some of them also employed terrorism as propaganda of the deed. Assassination attempts were carried out against heads of state, some of which were successful. Anarchists also took part in revolutions. Many anarchists, especially the Galleanists, believed that these attempts would be the impetus for a revolution against capitalism and the state. Many of these attacks were done by individual assailants and the majority took place in the late 1870s, the early 1880s and the 1890s, with some still occurring in the early 1900s. Their decrease in prevalence was the result of further judicial power and targeting and cataloging by state institutions.\\n\\nAnarchist perspectives towards violence have always been perplexing and controversial. On one hand, anarcho-pacifists point out the unity of means and ends. On the other hand, other anarchist groups advocate direct action, a tactic which can include acts of sabotage or even acts of terrorism. This attitude was quite prominent a century ago when seeing the state as a tyrant and some anarchists believing that they had every right to oppose its oppression by any means possible. Emma Goldman and Errico Malatesta, who were proponents of limited use of violence, argued that violence is merely a reaction to state violence as a necessary evil.\\n\\nAnarchists took an active role in strike actions, although they tended to be antipathetic to formal syndicalism, seeing it as reformist. They saw it as a part of the movement which sought to overthrow the state and capitalism. Anarchists also reinforced their propaganda within the arts, some of whom practiced naturism and nudism. Those anarchists also built communities which were based on friendship and were involved in the news media.\\n\\n Revolutionary tactics \\nthumb|Black bloc protesters parading anarcho-communism imagery such as the motto \"No War but the Class War\"\\nIn the current era, Italian anarchist Alfredo Bonanno, a proponent of insurrectionary anarchism, has reinstated the debate on violence by rejecting the nonviolence tactic adopted since the late 19th century by Kropotkin and other prominent anarchists afterwards. Both Bonanno and the French group The Invisible Committee advocate for small, informal affiliation groups, where each member is responsible for their own actions but works together to bring down oppression utilizing sabotage and other violent means against state, capitalism and other enemies. Members of The Invisible Committee were arrested in 2008 on various charges, terrorism included.\\n\\nOverall, contemporary anarchists are much less violent and militant than their ideological ancestors. They mostly engage in confronting the police during demonstrations and riots, especially in countries such as Canada, Greece and Mexico. Militant black bloc protest groups are known for clashing with the police. However, anarchists not only clash with state operators; they also engage in the struggle against fascists and racists, taking anti-fascist action and mobilizing to prevent hate rallies from happening.\\n\\n Evolutionary tactics \\nAnarchists commonly employ direct action. This can take the form of disrupting and protesting against unjust hierarchy, or the form of self-managing their lives through the creation of counter-institutions such as communes and non-hierarchical collectives. Decision-making is often handled in an anti-authoritarian way, with everyone having equal say in each decision, an approach known as horizontalism. Contemporary-era anarchists have been engaging with various grassroots movements that are more or less based on horizontalism, although not explicitly anarchist, respecting personal autonomy and participating in mass activism such as strikes and demonstrations. In contrast with the \\'\\'big-A anarchism\\'\\' of the classical era, the newly coined term \\'\\'small-a anarchism\\'\\' signals their tendency not to base their thoughts and actions on classical-era anarchism or to refer to classical anarchists such as Peter Kropotkin and Pierre-Joseph Proudhon to justify their opinions. Those anarchists would rather base their thought and praxis on their own experience which they will later theorize.\\n\\nThe decision-making process of small anarchist affinity groups plays a significant tactical role. Anarchists have employed various methods in order to build a rough consensus among members of their group without the need of a leader or a leading group. One way is for an individual from the group to play the role of facilitator to help achieve a consensus without taking part in the discussion themselves or promoting a specific point. Minorities usually accept rough consensus, except when they feel the proposal contradicts anarchist ethics, goals and values. Anarchists usually form small groups (5–20 individuals) to enhance autonomy and friendships among their members. These kinds of groups more often than not interconnect with each other, forming larger networks. Anarchists still support and participate in strikes, especially wildcat strikes as these are leaderless strikes not organised centrally by a syndicate.\\n\\nAs in the past, newspapers and journals are used, but anarchists have gone online in the World Wide Web to spread their message. However, anarchists have found it easier to create websites because of distributional and other difficulties, hosting electronic libraries and other portals. Anarchists were also involved in developing various software that are available for free. The way these hacktivists work to develop and distribute resembles the anarchist ideals, especially when it comes to preserving users\\' privacy from state surveillance.\\n\\nAnarchists organize themselves to squat and reclaim public spaces. During important events such as protests and when spaces are being occupied, they are often called Temporary Autonomous Zones (TAZ), spaces where art, poetry and surrealism are blended to display the anarchist ideal. As seen by anarchists, squatting is a way to regain urban space from the capitalist market, serving pragmatical needs and also being an exemplary direct action. Acquiring space enables anarchists to experiment with their ideas and build social bonds. Adding up these tactics while having in mind that not all anarchists share the same attitudes towards them, along with various forms of protesting at highly symbolic events, make up a carnivalesque atmosphere that is part of contemporary anarchist vividity.\\n\\n Key issues \\n\\nAs anarchism is a philosophy that embodies many diverse attitudes, tendencies and schools of thought; disagreement over questions of values, ideology and tactics is common. Its diversity has led to widely different uses of identical terms among different anarchist traditions which has created a number of definitional concerns in anarchist theory. The compatibility of capitalism, nationalism and religion with anarchism is widely disputed. Similarly, anarchism enjoys complex relationships with ideologies such as communism, collectivism, Marxism and trade unionism. Anarchists may be motivated by humanism, divine authority, enlightened self-interest, veganism, or any number of alternative ethical doctrines. Phenomena such as civilisation, technology (e.g. within anarcho-primitivism) and the democratic process may be sharply criticised within some anarchist tendencies and simultaneously lauded in others.\\n\\n Gender, sexuality and free love \\n\\nleft|thumb|upright|Émile Armand, a French individualist anarchist who propounded the virtues of free love in the Parisian anarchist milieu of the early 20th century\\nAs gender and sexuality carry along them dynamics of hierarchy, anarchism is obliged to address, analyse and oppose the suppression of one\\'s autonomy because of the dynamics that gender roles traditionally impose.\\n\\nthumb|upright=1.2|Collection of anarcha-feminist protests, symbols and flags\\nSexuality was not often discussed by classical anarchists, but the few that did felt that an anarchist society would lead to sexuality naturally developing. However, sexual violence was a concern for anarchists such as Benjamin Tucker, who opposed age of consent laws, believing they would benefit predatory men. A historical current that arose and flourished during 1890 and 1920 within anarchism was free love. In contemporary anarchism, this current survives as a tendency to support polyamory and queer anarchism. Free love advocates were against marriage, which they saw as a way of men imposing authority over women, largely because marriage law greatly favoured the power of men. The notion of free love was much broader and included a critique of the established order that limited women\\'s sexual freedom and pleasure. Those free love movements contributed to the establishment of communal houses, where large groups of travelers, anarchists and other activists slept in beds together. Free love had roots both in Europe and the United States. However, some anarchists struggled with the jealousy that arose from free love. Anarchist feminists were advocates of free love, against marriage, pro-choice (utilising a contemporary term) and had a similar agenda. Anarchist and non-anarchist feminists differed on suffrage, but they were nonetheless supportive of one another.\\n\\nDuring the second half of the 20th century, anarchism intermingled with the second wave of feminism, radicalising some currents of the feminist movement and being influenced as well. By the latest decades of the 20th century, anarchists and feminists were advocating for the rights and autonomy of women, gays, queers and other marginalised groups, with some feminist thinkers suggesting a fusion of the two currents. With the third wave of feminism, sexual identity and compulsory heterosexuality became a subject of study for anarchists, yielding a post-structuralist critique of sexual normality. However, some anarchists distanced themselves from this line of thinking, suggesting that it leaned towards an individualism that was dropping the cause of social liberation.\\n\\n Anarchism and education \\n\\n+ Anarchist vs. statist perspectives on educationRuth Kinna (2019)Anarchist educationState educationConcept  Education as self-mastery  Education as serviceManagement  Community based  State runMethods  Practice-based learning  Vocational trainingAims  Being a critical member of society  Being a productive member of society\\nThe interest of anarchists in education stretches back to the first emergence of classical anarchism. Anarchists consider proper education, one which sets the foundations of the future autonomy of the individual and the society, to be an act of mutual aid. Anarchist writers such as William Godwin (\\'\\'Political Justice\\'\\') and Max Stirner (\"The False Principle of Our Education\") attacked both state education and private education as another means by which the ruling class replicate their privileges.\\n\\nIn 1901, Catalan anarchist and free thinker Francisco Ferrer established the Escuela Moderna in Barcelona as an opposition to the established education system which was dictated largely by the Catholic Church. Ferrer\\'s approach was secular, rejecting both state and church involvement in the educational process whilst giving pupils large amounts of autonomy in planning their work and attendance. Ferrer aimed to educate the working class and explicitly sought to foster class consciousness among students. The school closed after constant harassment by the state and Ferrer was later arrested. Nonetheless, his ideas formed the inspiration for a series of modern schools around the world. Christian anarchist Leo Tolstoy, who published the essay \\'\\'Education and Culture\\'\\', also established a similar school with its founding principle being that \"for education to be effective it had to be free.\" In a similar token, A. S. Neill founded what became the Summerhill School in 1921, also declaring being free from coercion.\\n\\nAnarchist education is based largely on the idea that a child\\'s right to develop freely and without manipulation ought to be respected and that rationality will lead children to morally good conclusions. However, there has been little consensus among anarchist figures as to what constitutes manipulation. Ferrer believed that moral indoctrination was necessary and explicitly taught pupils that equality, liberty and social justice were not possible under capitalism, along with other critiques of government and nationalism.\\n\\nLate 20th century and contemporary anarchist writers (Colin Ward, Herbert Read and Paul Goodman) intensified and expanded the anarchist critique of state education, largely focusing on the need for a system that focuses on children\\'s creativity rather than on their ability to attain a career or participate in consumerism as part of a consumer society. Contemporary anarchists such as Ward have further argued that state education serves to perpetuate socioeconomic inequality.\\n\\nWhile few anarchist education institutions have survived to the modern-day, major tenets of anarchist schools, among them respect for child autonomy and relying on reasoning rather than indoctrination as a teaching method, have spread among mainstream educational institutions. Judith Suissa names three schools as explicitly anarchists schools, namely the Free Skool Santa Cruz in the United States which is part of a wider American-Canadian network of schools, the Self-Managed Learning College in Brighton, England and the Paideia School in Spain.\\n\\n Anarchism and the state \\n\\nObjection to the state and its institutions is a \\'\\'sine qua non\\'\\' of anarchism. Anarchists consider the state as a tool of domination and believe it to be illegitimate regardless of its political tendencies. Instead of people being able to control the aspects of their life, major decisions are taken by a small elite. Authority ultimately rests solely on power, regardless of whether that power is open or transparent, as it still has the ability to coerce people. Another anarchist argument against states is that the people constituting a government, even the most altruistic among officials, will unavoidably seek to gain more power, leading to corruption. Anarchists consider the idea that the state is the collective will of the people to be an unachievable fiction due to the fact that the ruling class is distinct from the rest of society.\\n\\nSpecific anarchist attitudes towards the state vary. Robert Paul Wolff believed that the tension between authority and autonomy would mean the state could never be legitimate. Bakunin saw the state as meaning \"coercion, domination by means of coercion, camouflaged if possible but unceremonious and overt if need be.\" A. John Simmons and Leslie Green, who leaned toward philosophical anarchism, believed that the state could be legitimate if it is governed by consensus, although they saw this as highly unlikely. Beliefs on how to abolish the state also differ.\\n\\n Anarchism and the arts \\n\\nthumb|340px|\\'\\'Les chataigniers a Osny\\'\\' (1888) by anarchist painter Camille Pissarro, an example of blending anarchism and art\\nThe connection between anarchism and art was quite profound during the classical era of anarchism, especially among artistic currents that were developing during that era such as futurists, surrealists and others. In literature, anarchism was mostly associated with the New Apocalyptics and the neo-romanticism movement. In music, anarchism has been associated with music scenes such as punk. Anarchists such as Leo Tolstoy and Herbert Read argued that the border between the artist and the non-artist, what separates art from a daily act, is a construct produced by the alienation caused by capitalism and it prevents humans from living a joyful life.\\n\\nOther anarchists advocated for or used art as a means to achieve anarchist ends. In his book \\'\\'Breaking the Spell: A History of Anarchist Filmmakers, Videotape Guerrillas, and Digital Ninjas\\'\\', Chris Robé claims that \"anarchist-inflected practices have increasingly structured movement-based video activism.\" Throughout the 20th century, many prominent anarchists (Peter Kropotkin, Emma Goldman, Gustav Landauer and Camillo Berneri) and publications such as \\'\\'Anarchy\\'\\' wrote about matters pertaining to the arts.\\n\\nThree overlapping properties made art useful to anarchists. It could depict a critique of existing society and hierarchies, serve as a prefigurative tool to reflect the anarchist ideal society and even turn into a means of direct action such as in protests. As it appeals to both emotion and reason, art could appeal to the whole human and have a powerful effect. The 19th-century neo-impressionist movement had an ecological aesthetic and offered an example of an anarchist perception of the road towards socialism. In \\'\\'Les chataigniers a Osny\\'\\' by anarchist painter Camille Pissarro, the blending of aesthetic and social harmony is prefiguring an ideal anarchistic agrarian community.\\n\\n Criticism \\nthumb|Bertrand Russell argued that anarchism was unable to provide all the services that government does.\\nThe most common critique of anarchism is that humans cannot self-govern and so a state is necessary for human survival. Philosopher Bertrand Russell supported this critique, stating that \"[p]eace and war, tariffs, regulations of sanitary conditions and the sale of noxious drugs, the preservation of a just system of distribution: these, among others, are functions which could hardly be performed in a community in which there was no central government.\" Another common criticism of anarchism is that it fits a world of isolation in which only the small enough entities can be self-governing. Colin Ward responds that major anarchist thinkers advocated federalism.\\n\\nPhilosophy lecturer Andrew G. Fiala composed a list of common arguments against anarchism which includes critiques such as that anarchism is innately related to violence and destruction, not only in the pragmatic world, i.e. at protests, but in the world of ethics as well. Secondly, anarchism is evaluated as unfeasible or utopian since the state can not be defeated practically. This line of arguments most often calls for political action within the system to reform it. The third argument is that anarchism is self-contradictory. While it advocates for no-one to \\'\\'archiei\\'\\', if accepted by the many, then anarchism would turn into the ruling political theory. In this line of criticism also comes the self-contradiction that anarchism calls for collective action whilst endorsing the autonomy of the individual, hence no collective action can be taken. Lastly, Fiala mentions a critique towards philosophical anarchism of being ineffective (all talk and thoughts) and in the meantime capitalism and bourgeois class remains strong.\\n\\nPhilosophical anarchism has met the criticism of members of academia following the release of pro-anarchist books such as A. John Simmons\\' \\'\\'Moral Principles and Political Obligations\\'\\'. Law professor William A. Edmundson authored an essay arguing against three major philosophical anarchist principles which he finds fallacious. Edmundson claims that while the individual does not owe the state a duty of obedience, this does not imply that anarchism is the inevitable conclusion and the state is still morally legitimate. In \\'\\'The Problem of Political Authority\\'\\', Michael Huemer defends philosophical anarchism, claiming that \"political authority is a moral illusion.\"\\n\\nAnother criticism is that anarchism defies and fails to understand the biological inclination to authority as first articulated in an 1886 article for the \\'\\'North American Review\\'\\' by Frances L. Ferguson. Joseph Raz argues that the acceptance of authority implies the belief that following their instructions will afford more success. Raz believes that this argument is true in following both authorities\\' successful and mistaken instruction. Anarchists reject this criticism because challenging or disobeying authority does not entail the disappearance of its advantages by acknowledging authority such as doctors or lawyers as reliable, nor does it involve a complete surrender of independent judgment. Anarchist perception of human nature, rejection of the state and commitment to social revolution has been criticised by academics as naive, overly simplistic and unrealistic, respectively. Classical anarchism has been criticized for relying too heavily on the belief that the abolition of the state will lead to human cooperation prospering. \\n\\nFriedrich Engels, considered to be one of the principal founders of Marxism, criticized anti-authoritarianism as inherently counter-revolutionary. Academic John Molyneux writes in his book \\'\\'Anarchism: A Marxist Criticism\\'\\' that \"anarchism cannot win\", believing that it lacks the ability to properly implement its ideas. The Marxist criticism of anarchism is that it has a utopian character because all individuals should have anarchist views and values. According to the Marxist view, that a social idea would follow directly from this human ideal and out of the free will of every individual formed its essence. Marxists argue that this contradiction was responsible for their inability to act. In the anarchist vision, the conflict between liberty and equality was resolved through coexistence and intertwining.\\n\\n See also \\n\\n Anarchism by country\\n Governance without government\\n List of anarchist political ideologies\\n List of books about anarchism\\n\\n References \\n Citations \\n\\n Sources \\n Primary sources \\n\\n \\n\\n Secondary sources \\n\\n \\n \\n \\n \\n \\n \\n \\n \\n \\n \\n \\n \\n \\n \\n \\n \\n \\n \\n \\n \\n \\n \\n \\n \\n \\n \\n \\n \\n \\n \\n \\n \\n \\n \\n \\n \\n \\n \\n \\n \\n \\n \\n \\n \\n \\n \\n \\n \\n \\n \\n \\n \\n \\n \\n \\n \\n \\n \\n \\n \\n \\n \\n \\n \\n \\n \\n \\n \\n \\n \\n \\n \\n \\n \\n \\n \\n \\n \\n \\n \\n \\n \\n \\n \\n \\n \\n \\n \\n \\n \\n \\n \\n \\n \\n \\n \\n \\n \\n \\n \\n \\n \\n \\n \\n \\n \\n \\n \\n \\n\\n Tertiary sources \\n\\n \\n \\n \\n \\n \\n \\n \\n \\n \\n \\n \\n\\n Further reading \\n \\n  Criticism of philosophical anarchism.\\n \\n  A defence of philosophical anarchism, arguing that \"both kinds of \\'anarchism\\' [i.e. philosophical and political anarchism] are philosophical and political claims.\" (p. 137)\\n  Anarchistic popular fiction novel.\\n \\n \\n \\n  An argument for philosophical anarchism.\\n \\n\\n External links \\n\\n Anarchy Archives. Anarchy Archives is an online research center on the history and theory of anarchism\\n\\n \\nCategory:Anti-capitalism\\nCategory:Anti-fascism\\nCategory:Economic ideologies\\nCategory:Left-wing politics\\nCategory:Libertarian socialism\\nCategory:Libertarianism\\nCategory:Political culture\\nCategory:Political movements\\nCategory:Political ideologies\\nCategory:Social theories\\nCategory:Socialism', id=12, title='Anarchism')]"
            ]
          },
          "metadata": {},
          "execution_count": 6
        }
      ]
    },
    {
      "cell_type": "markdown",
      "source": [
        "**Count the frequency of each word in docunment**"
      ],
      "metadata": {
        "id": "YdWW0hJ7hzg9"
      }
    },
    {
      "cell_type": "code",
      "source": [
        "english_stopwords = frozenset(stopwords.words('english'))\n",
        "corpus_stopwords = ['category', 'references', 'also', 'links', 'extenal', 'see', 'thumb']\n",
        "RE_WORD = re.compile(r\"\"\"[\\#\\@\\w](['\\-]?\\w){2,24}\"\"\", re.UNICODE)\n",
        "\n",
        "all_stopwords = english_stopwords.union(corpus_stopwords)\n",
        "\n",
        "\"\"\"\n",
        "Count the frequency of each word in docunment\n",
        "Parameters:\n",
        "  text: (str) Text of one document\n",
        "  id: (int) Document id\n",
        "  withTFnormal (bool) if normalization by leanght of the document\n",
        "Returns:\n",
        "  List of tuples: A list of (token, (doc_id, tf))\n",
        "\"\"\"\n",
        "\n",
        "l = [\"barcelona\", \"ring\"]\n",
        "def word_count(text, id, withTFnormal=False, keyIsDoc=False):\n",
        "  containl = False\n",
        "  tokens = [token.group() for token in RE_WORD.finditer(text.lower())]\n",
        "  sizeOfDoc = 0\n",
        "  word_counts = Counter()\n",
        "\n",
        "  for token in tokens:\n",
        "    if (token not in all_stopwords):\n",
        "      word_counts[token] += 1\n",
        "      sizeOfDoc += 1\n",
        "      if(containl == False):\n",
        "          if(token in l):\n",
        "            containl = True\n",
        "\n",
        "  if(containl == False):\n",
        "    return []\n",
        "\n",
        "  if (keyIsDoc):\n",
        "    return [(id, (token, count/sizeOfDoc)) for token, count in word_counts.items()]\n",
        "\n",
        "  if(not withTFnormal):\n",
        "    return [(token, (id, count)) for token, count in word_counts.items()]\n",
        "\n",
        "  return [(token, (id, count/sizeOfDoc)) for token, count in word_counts.items()]\n",
        "\n"
      ],
      "metadata": {
        "id": "ZzpnDWdsXiq0"
      },
      "execution_count": null,
      "outputs": []
    },
    {
      "cell_type": "code",
      "source": [
        "word_counts = doc_text_pairs.flatMap(lambda x: word_count(x[0], x[1]))    # Count the frequency of each word in docunment without normalization"
      ],
      "metadata": {
        "id": "Pwlj_w9ObYO0"
      },
      "execution_count": null,
      "outputs": []
    },
    {
      "cell_type": "markdown",
      "source": [
        "**sorted posting list by wiki_id**"
      ],
      "metadata": {
        "id": "Ja9zqbjXh9sE"
      }
    },
    {
      "cell_type": "code",
      "source": [
        "\"\"\"\n",
        "Returns a sorted posting list by wiki_id.\n",
        "Parameters:\n",
        "  unsorted_pl: list of tuples - A list of (wiki_id, tf) tuples\n",
        "Returns:\n",
        "    list of tuples A sorted posting list.\n",
        "\"\"\"\n",
        "def reduce_word_counts(unsorted_pl):\n",
        "  return sorted(unsorted_pl, key=lambda x: x[0])"
      ],
      "metadata": {
        "id": "XKstpiUBeg4v"
      },
      "execution_count": 14,
      "outputs": []
    },
    {
      "cell_type": "code",
      "source": [
        "postings = word_counts.groupByKey().mapValues(reduce_word_counts)   # Sort by document id and then merge by term.\n",
        "postings_filtered = postings.filter(lambda x: len(x[1])>10)         # Filter out rare words"
      ],
      "metadata": {
        "id": "twadmG79e8Aa"
      },
      "execution_count": null,
      "outputs": []
    },
    {
      "cell_type": "markdown",
      "source": [
        "**Takes a posting list RDD and calculate the df for each token**"
      ],
      "metadata": {
        "id": "9iSnf-S-ijt6"
      }
    },
    {
      "cell_type": "code",
      "source": [
        "\"\"\"\n",
        "Takes a posting list RDD and calculate the df for each token.\n",
        "Parameters:\n",
        "  postings: (RDD) An RDD where each element is a (token, posting_list).\n",
        "Returns:\n",
        "  An RDD where each element is a (token, df) pair.\n",
        "\"\"\"\n",
        "def calculate_df(postings):\n",
        "  return postings.map(lambda x: (x[0], len(x[1])))"
      ],
      "metadata": {
        "id": "1TIOW9ugmol_"
      },
      "execution_count": null,
      "outputs": []
    },
    {
      "cell_type": "code",
      "source": [
        "w2df_dict = (calculate_df(postings_filtered)).collectAsMap()    # Create dict of df"
      ],
      "metadata": {
        "id": "HjsQ048WoWG_"
      },
      "execution_count": null,
      "outputs": []
    },
    {
      "cell_type": "markdown",
      "source": [
        "**A function that partitions the posting lists into buckets, writes out all posting lists in a bucket to disk**"
      ],
      "metadata": {
        "id": "iKcaedPViqtP"
      }
    },
    {
      "cell_type": "code",
      "source": [
        "NUM_BUCKETS = 124\n",
        "def token2bucket_id(token):\n",
        "  return int(_hash(token),16) % NUM_BUCKETS\n",
        "\n",
        "\"\"\"\n",
        "A function that partitions the posting lists into buckets, writes out all posting lists in a bucket to disk.\n",
        "Parameters:\n",
        "  postings: (RDD) An RDD where each item is a (w, posting_list) pair.\n",
        "Returns:\n",
        "  An RDD where each item is a posting locations dictionary for a bucket.\n",
        "\"\"\"\n",
        "def partition_postings_and_write(postings):\n",
        "\n",
        "  bucketed_postings = postings.map(lambda x: (token2bucket_id(x[0]), [(x[0], x[1])]))         # Assign each token to a bucket\n",
        "  grouped_postings = bucketed_postings.reduceByKey(lambda x, y: x + y)                        # Group the postings by bucket\n",
        "  posting_locations = grouped_postings.map(lambda x: InvertedIndex.write_a_posting_list(x))   # Write out each bucket and collect posting locations\n",
        "\n",
        "  return posting_locations"
      ],
      "metadata": {
        "id": "Zyz2obcf9zeV"
      },
      "execution_count": null,
      "outputs": []
    },
    {
      "cell_type": "code",
      "source": [
        "# Merge the posting locations into a single dict.\n",
        "posting_locs_list = partition_postings_and_write(postings).collect()\n",
        "super_posting_locs = defaultdict(list)\n",
        "for posting_loc in posting_locs_list:\n",
        "  for k, v in posting_loc.items():\n",
        "    super_posting_locs[k].extend(v)\n"
      ],
      "metadata": {
        "id": "oIxjkwZF-9MM"
      },
      "execution_count": null,
      "outputs": []
    },
    {
      "cell_type": "markdown",
      "source": [
        "**Create tf-idf dictionary**"
      ],
      "metadata": {
        "id": "pa9XHqYRixac"
      }
    },
    {
      "cell_type": "code",
      "source": [
        "# Create tf-idf dictionary\n",
        "\n",
        "N = 1000;\n",
        "\n",
        "word_TF = doc_text_pairs.flatMap(lambda x: word_count(x[0], x[1], True))\n",
        "postings_TF = word_TF.groupByKey().mapValues(reduce_word_counts)\n",
        "postings_TF_filtered = postings_TF.filter(lambda x: len(x[1])>10)\n",
        "\n",
        "postings_TF_IDF_filtered = postings_TF_filtered.map(lambda x: (x[0], updated_value_function(x[0],x[1])))\n",
        "\n",
        "def updated_value_function(term, post):\n",
        "    return list(map(lambda x: (x[0], x[1]*math.log10(N/w2df_dict[term])), post))\n",
        "\n",
        "postings_TF_IDF_filtered_dict = postings_TF_IDF_filtered.collectAsMap()"
      ],
      "metadata": {
        "id": "njn7o34abqIo"
      },
      "execution_count": null,
      "outputs": []
    },
    {
      "cell_type": "markdown",
      "source": [
        "**Create nf dictionary**"
      ],
      "metadata": {
        "id": "cuWgbUvZacs3"
      }
    },
    {
      "cell_type": "code",
      "source": [
        "Doc_TF = doc_text_pairs.flatMap(lambda x: word_count(x[0], x[1], True,True))\n",
        "Doc_TF = Doc_TF.groupByKey().mapValues(reduce_word_counts)\n",
        "\n",
        "Doc_TF_IDF_filtered = Doc_TF.map(lambda x: (x[0], updated_value_function2(x[1])))\n",
        "def updated_value_function2(post):\n",
        "  listTermTfIdF = []\n",
        "\n",
        "  for term, tf in post:\n",
        "    if (term in w2df_dict):\n",
        "      listTermTfIdF.append((term, tf * math.log10(N / w2df_dict[term])))\n",
        "\n",
        "  nf = 0\n",
        "  for term, tfIdf in listTermTfIdF:\n",
        "    nf = nf + tfIdf ** 2\n",
        "  nf = 1/math.sqrt(nf)\n",
        "\n",
        "  return nf\n",
        "\n",
        "Doc_TF_IDF_filtered_dict = Doc_TF_IDF_filtered.collectAsMap()"
      ],
      "metadata": {
        "id": "jV6L10QkabWU"
      },
      "execution_count": null,
      "outputs": []
    },
    {
      "cell_type": "markdown",
      "source": [
        "**write the global stats out**"
      ],
      "metadata": {
        "id": "usUa1RW_jAFd"
      }
    },
    {
      "cell_type": "code",
      "source": [
        "inverted = InvertedIndex()                            # Create inverted index instance\n",
        "inverted.posting_locs = super_posting_locs            # Adding the posting locations dictionary to the inverted index\n",
        "inverted.df = w2df_dict                               # Add the df dictionary to the inverted index\n",
        "inverted.tfidf = postings_TF_IDF_filtered_dict        # Add the tfidf dictionary to the inverted index\n",
        "inverted.nf = Doc_TF_IDF_filtered_dict\n",
        "inverted.write_index('.', 'index')                    # write the global stats out\n"
      ],
      "metadata": {
        "id": "nhflKYa8KFPE"
      },
      "execution_count": null,
      "outputs": []
    },
    {
      "cell_type": "code",
      "source": [
        "inverted_index = InvertedIndex.read_index('.', 'index')"
      ],
      "metadata": {
        "id": "Qbm_iDw8Oaoe"
      },
      "execution_count": null,
      "outputs": []
    },
    {
      "cell_type": "markdown",
      "source": [
        "**Title**"
      ],
      "metadata": {
        "id": "L0D1buZhhEr2"
      }
    },
    {
      "cell_type": "code",
      "source": [
        "parquetFile = spark.read.parquet(path)\n",
        "# take the 'text' and 'id' or the first 1000 rows and create an RDD from it\n",
        "doc_text_pairs = parquetFile.limit(1000).select(\"title\", \"id\").rdd\n"
      ],
      "metadata": {
        "id": "Bs6-1TAKg0Lh"
      },
      "execution_count": 68,
      "outputs": []
    },
    {
      "cell_type": "code",
      "source": [
        "english_stopwords = frozenset(stopwords.words('english'))\n",
        "corpus_stopwords = ['category', 'references', 'also', 'links', 'extenal', 'see', 'thumb']\n",
        "RE_WORD = re.compile(r\"\"\"[\\#\\@\\w](['\\-]?\\w){2,24}\"\"\", re.UNICODE)\n",
        "\n",
        "all_stopwords = english_stopwords.union(corpus_stopwords)\n",
        "\n",
        "def word_title_count(title, id):\n",
        "    tokens = [token.group() for token in RE_WORD.finditer(title.lower())]\n",
        "    sizeOfTitle = 0\n",
        "    word_counts = Counter()\n",
        "\n",
        "    for token in tokens:\n",
        "        if (token not in all_stopwords):\n",
        "            word_counts[token] += 1\n",
        "            sizeOfTitle += 1\n",
        "\n",
        "    return [(token, (id, count/sizeOfTitle)) for token, count in word_counts.items()]"
      ],
      "metadata": {
        "id": "2yQxHoGakZ9N"
      },
      "execution_count": 69,
      "outputs": []
    },
    {
      "cell_type": "code",
      "source": [
        "def reduce_word_title_counts(unsorted_pl):\n",
        "  return sorted(unsorted_pl, key=lambda x: x[0])"
      ],
      "metadata": {
        "id": "Er2HgMz5mFQD"
      },
      "execution_count": 70,
      "outputs": []
    },
    {
      "cell_type": "code",
      "source": [
        "word_counts = doc_text_pairs.flatMap(lambda x: word_title_count(x[0], x[1]))\n",
        "postings = word_counts.groupByKey().mapValues(reduce_word_title_counts)   # Sort by document id and then merge by term.\n",
        "postings_filtered = postings.filter(lambda x: len(x[1])>10)\n",
        "postings_filtered = postings_filtered.collect()\n",
        "print(postings_filtered)"
      ],
      "metadata": {
        "colab": {
          "base_uri": "https://localhost:8080/"
        },
        "id": "IpAmQnDNlhu_",
        "outputId": "23af3b2e-9679-47ff-9187-935c26bff05f"
      },
      "execution_count": 84,
      "outputs": [
        {
          "output_type": "stream",
          "name": "stdout",
          "text": [
            "[('american', [(309, 0.5), (615, 0.3333333333333333), (659, 0.25), (771, 0.3333333333333333), (863, 0.3333333333333333), (869, 0.3333333333333333), (966, 0.5), (1110, 0.3333333333333333), (1111, 0.3333333333333333), (1112, 0.3333333333333333), (1201, 0.3333333333333333), (1241, 0.5), (1488, 0.5), (1558, 0.3333333333333333), (1890, 0.5), (1902, 0.3333333333333333), (1950, 0.25), (1973, 0.5), (2011, 0.25), (2175, 0.5), (2357, 0.3333333333333333), (2386, 0.5)]), ('disambiguation', [(590, 0.5), (632, 0.5), (661, 0.5), (679, 0.5), (694, 0.3333333333333333), (780, 0.5), (1155, 0.5), (1184, 0.5), (1391, 0.5), (1501, 0.5), (1597, 0.3333333333333333), (1919, 0.5), (1931, 0.5), (2004, 0.5), (2123, 0.5), (2127, 0.5), (2209, 0.5), (2332, 1.0)]), ('apollo', [(594, 1.0), (662, 1.0), (663, 1.0), (1461, 0.5), (1770, 1.0), (1773, 1.0), (1774, 1.0), (1965, 1.0), (1966, 1.0), (1967, 1.0), (1968, 1.0), (1969, 1.0), (1970, 1.0), (1971, 1.0)]), ('albert', [(711, 0.3333333333333333), (736, 0.5), (954, 0.5), (983, 0.5), (1029, 0.5), (1504, 1.0), (1505, 1.0), (1506, 1.0), (1507, 0.5), (1508, 0.25), (1509, 0.5), (1513, 0.5), (1514, 0.3333333333333333), (1893, 0.5), (2371, 0.5)]), ('alexander', [(783, 0.5), (852, 0.3333333333333333), (1235, 0.3333333333333333), (1548, 0.5), (1585, 0.5), (1586, 0.5), (1587, 0.5), (1588, 0.5), (1589, 0.5), (1592, 0.3333333333333333), (1593, 0.5), (1594, 0.5), (1595, 0.5), (1596, 0.3333333333333333), (1597, 0.3333333333333333), (1599, 0.5), (1600, 0.5), (1601, 1.0), (1602, 1.0), (1603, 1.0), (1604, 0.5), (1605, 0.5), (1606, 0.5), (1607, 1.0), (1608, 1.0), (1751, 0.3333333333333333), (1790, 0.5), (1937, 0.5), (1957, 0.5), (2042, 0.5)]), ('august', [(980, 0.5), (1005, 1.0), (1012, 1.0), (1013, 1.0), (1019, 1.0), (1027, 1.0), (1129, 1.0), (1154, 1.0), (1254, 1.0), (1259, 1.0), (1332, 1.0), (1333, 1.0), (1417, 1.0), (1442, 1.0), (1448, 1.0), (1490, 1.0), (1491, 1.0), (1496, 1.0), (1497, 1.0), (1499, 1.0), (1519, 1.0), (1628, 1.0), (1629, 1.0), (1700, 0.3333333333333333), (1711, 1.0), (1781, 1.0), (1793, 1.0), (1794, 1.0), (1990, 1.0), (2038, 0.5), (2192, 1.0), (2315, 1.0), (2418, 1.0)]), ('april', [(1004, 1.0), (1008, 1.0), (1009, 1.0), (1010, 1.0), (1011, 1.0), (1175, 1.0), (1261, 1.0), (1334, 1.0), (1416, 1.0), (1541, 1.0), (1639, 1.0), (1710, 1.0), (1777, 1.0), (1787, 1.0), (1826, 1.0), (1827, 1.0), (1862, 1.0), (1974, 1.0), (2194, 1.0), (2195, 1.0), (2196, 1.0), (2224, 1.0), (2279, 1.0), (2326, 1.0), (2395, 1.0)]), ('alfonso', [(1247, 0.5), (1664, 0.5), (1676, 0.5), (1677, 0.5), (1679, 0.5), (1683, 0.3333333333333333), (1684, 0.5), (1686, 0.5), (1689, 1.0), (1691, 1.0), (1692, 0.5), (1694, 1.0), (1696, 1.0), (1879, 0.5), (2329, 0.5)]), ('iii', [(1507, 0.5), (1529, 0.5), (1546, 0.3333333333333333), (1592, 0.3333333333333333), (1596, 0.3333333333333333), (1604, 0.5), (1616, 0.3333333333333333), (1659, 0.3333333333333333), (1683, 0.3333333333333333), (1692, 0.5), (1730, 0.3333333333333333), (1760, 0.3333333333333333), (2117, 0.5)])]\n"
          ]
        }
      ]
    },
    {
      "cell_type": "code",
      "source": [
        "inverted = InvertedIndex()                            # Create inverted index instance\n",
        "inverted.tfTitle = postings_filtered\n",
        "inverted.write_index('.', 'index')"
      ],
      "metadata": {
        "id": "hB3Vs9y9vHaY"
      },
      "execution_count": 86,
      "outputs": []
    },
    {
      "cell_type": "code",
      "source": [
        "inverted_index = InvertedIndex.read_index('.', 'index')\n",
        "print(inverted_index.tfTitle)"
      ],
      "metadata": {
        "colab": {
          "base_uri": "https://localhost:8080/"
        },
        "id": "MPOJM5OXvyD1",
        "outputId": "339088d9-43d1-4b0c-e2ee-0719459b7dd6"
      },
      "execution_count": 89,
      "outputs": [
        {
          "output_type": "stream",
          "name": "stdout",
          "text": [
            "[('american', [(309, 0.5), (615, 0.3333333333333333), (659, 0.25), (771, 0.3333333333333333), (863, 0.3333333333333333), (869, 0.3333333333333333), (966, 0.5), (1110, 0.3333333333333333), (1111, 0.3333333333333333), (1112, 0.3333333333333333), (1201, 0.3333333333333333), (1241, 0.5), (1488, 0.5), (1558, 0.3333333333333333), (1890, 0.5), (1902, 0.3333333333333333), (1950, 0.25), (1973, 0.5), (2011, 0.25), (2175, 0.5), (2357, 0.3333333333333333), (2386, 0.5)]), ('disambiguation', [(590, 0.5), (632, 0.5), (661, 0.5), (679, 0.5), (694, 0.3333333333333333), (780, 0.5), (1155, 0.5), (1184, 0.5), (1391, 0.5), (1501, 0.5), (1597, 0.3333333333333333), (1919, 0.5), (1931, 0.5), (2004, 0.5), (2123, 0.5), (2127, 0.5), (2209, 0.5), (2332, 1.0)]), ('apollo', [(594, 1.0), (662, 1.0), (663, 1.0), (1461, 0.5), (1770, 1.0), (1773, 1.0), (1774, 1.0), (1965, 1.0), (1966, 1.0), (1967, 1.0), (1968, 1.0), (1969, 1.0), (1970, 1.0), (1971, 1.0)]), ('albert', [(711, 0.3333333333333333), (736, 0.5), (954, 0.5), (983, 0.5), (1029, 0.5), (1504, 1.0), (1505, 1.0), (1506, 1.0), (1507, 0.5), (1508, 0.25), (1509, 0.5), (1513, 0.5), (1514, 0.3333333333333333), (1893, 0.5), (2371, 0.5)]), ('alexander', [(783, 0.5), (852, 0.3333333333333333), (1235, 0.3333333333333333), (1548, 0.5), (1585, 0.5), (1586, 0.5), (1587, 0.5), (1588, 0.5), (1589, 0.5), (1592, 0.3333333333333333), (1593, 0.5), (1594, 0.5), (1595, 0.5), (1596, 0.3333333333333333), (1597, 0.3333333333333333), (1599, 0.5), (1600, 0.5), (1601, 1.0), (1602, 1.0), (1603, 1.0), (1604, 0.5), (1605, 0.5), (1606, 0.5), (1607, 1.0), (1608, 1.0), (1751, 0.3333333333333333), (1790, 0.5), (1937, 0.5), (1957, 0.5), (2042, 0.5)]), ('august', [(980, 0.5), (1005, 1.0), (1012, 1.0), (1013, 1.0), (1019, 1.0), (1027, 1.0), (1129, 1.0), (1154, 1.0), (1254, 1.0), (1259, 1.0), (1332, 1.0), (1333, 1.0), (1417, 1.0), (1442, 1.0), (1448, 1.0), (1490, 1.0), (1491, 1.0), (1496, 1.0), (1497, 1.0), (1499, 1.0), (1519, 1.0), (1628, 1.0), (1629, 1.0), (1700, 0.3333333333333333), (1711, 1.0), (1781, 1.0), (1793, 1.0), (1794, 1.0), (1990, 1.0), (2038, 0.5), (2192, 1.0), (2315, 1.0), (2418, 1.0)]), ('april', [(1004, 1.0), (1008, 1.0), (1009, 1.0), (1010, 1.0), (1011, 1.0), (1175, 1.0), (1261, 1.0), (1334, 1.0), (1416, 1.0), (1541, 1.0), (1639, 1.0), (1710, 1.0), (1777, 1.0), (1787, 1.0), (1826, 1.0), (1827, 1.0), (1862, 1.0), (1974, 1.0), (2194, 1.0), (2195, 1.0), (2196, 1.0), (2224, 1.0), (2279, 1.0), (2326, 1.0), (2395, 1.0)]), ('alfonso', [(1247, 0.5), (1664, 0.5), (1676, 0.5), (1677, 0.5), (1679, 0.5), (1683, 0.3333333333333333), (1684, 0.5), (1686, 0.5), (1689, 1.0), (1691, 1.0), (1692, 0.5), (1694, 1.0), (1696, 1.0), (1879, 0.5), (2329, 0.5)]), ('iii', [(1507, 0.5), (1529, 0.5), (1546, 0.3333333333333333), (1592, 0.3333333333333333), (1596, 0.3333333333333333), (1604, 0.5), (1616, 0.3333333333333333), (1659, 0.3333333333333333), (1683, 0.3333333333333333), (1692, 0.5), (1730, 0.3333333333333333), (1760, 0.3333333333333333), (2117, 0.5)])]\n"
          ]
        }
      ]
    },
    {
      "cell_type": "code",
      "source": [
        "simDoc = Counter()\n",
        "query = \"ring\"\n",
        "query = dict(word_count(query, 0, True))\n",
        "for term, value in query.items():\n",
        "  query[term] = (value[0], value[1] * math.log10(N / inverted.df[term]))\n",
        "\n",
        "nfQuery = 0\n",
        "for term, value in query.items():\n",
        "  nfQuery = nfQuery + value[1] ** 2\n",
        "nfQuery = 1/math.sqrt(nfQuery)\n",
        "\n",
        "\n",
        "for term,  value in query.items():\n",
        "  docTfItf = inverted.tfidf[term]\n",
        "  for doc, weight in docTfItf:\n",
        "    simDoc[doc] += value[1] * weight\n",
        "\n",
        "for doc, sim in simDoc.items():\n",
        "  simDoc[doc] = simDoc[doc] * nfQuery * inverted.nf[doc]\n",
        "\n",
        "top_10_similar_docs = simDoc.most_common(10)\n",
        "\n",
        "print(top_10_similar_docs)"
      ],
      "metadata": {
        "colab": {
          "base_uri": "https://localhost:8080/"
        },
        "id": "U6dWNwW8RY5U",
        "outputId": "da0447e4-22d2-4170-fe93-a2a37106317f"
      },
      "execution_count": null,
      "outputs": [
        {
          "output_type": "stream",
          "name": "stdout",
          "text": [
            "[(316, 1.0), (639, 1.0), (657, 1.0), (666, 1.0), (674, 1.0), (679, 1.0), (680, 1.0), (737, 1.0), (740, 1.0), (771, 1.0)]\n"
          ]
        }
      ]
    }
  ]
}